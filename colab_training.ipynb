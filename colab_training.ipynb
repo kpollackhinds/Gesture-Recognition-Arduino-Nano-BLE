{
 "cells": [
  {
   "attachments": {},
   "cell_type": "markdown",
   "metadata": {},
   "source": [
    "This code is basically the same as model_training.py except written in a jupyter notebook so it can work with google colab."
   ]
  },
  {
   "cell_type": "code",
   "execution_count": 1,
   "metadata": {},
   "outputs": [],
   "source": [
    "import pandas as pd\n",
    "import numpy as np\n",
    "import matplotlib.pyplot as plt"
   ]
  },
  {
   "cell_type": "code",
   "execution_count": 4,
   "metadata": {},
   "outputs": [],
   "source": [
    "import tensorflow as tf\n",
    "from tensorflow import keras\n",
    "from keras import layers\n",
    "\n",
    "from sklearn.preprocessing import MinMaxScaler\n"
   ]
  },
  {
   "cell_type": "code",
   "execution_count": 5,
   "metadata": {},
   "outputs": [],
   "source": [
    "#seed allows for exact repeateability\n",
    "SEED = 1337\n",
    "np.random.seed(SEED)\n",
    "tf.random.set_seed(SEED)"
   ]
  },
  {
   "cell_type": "code",
   "execution_count": 6,
   "metadata": {},
   "outputs": [
    {
     "name": "stdout",
     "output_type": "stream",
     "text": [
      "<class 'pandas.core.frame.DataFrame'>\n",
      "RangeIndex: 5782 entries, 0 to 5781\n",
      "Data columns (total 7 columns):\n",
      " #   Column  Non-Null Count  Dtype  \n",
      "---  ------  --------------  -----  \n",
      " 0   Time    5782 non-null   int64  \n",
      " 1   Ax      5782 non-null   float64\n",
      " 2   Ay      5782 non-null   float64\n",
      " 3   Az      5782 non-null   float64\n",
      " 4   Gx      5782 non-null   float64\n",
      " 5   Gy      5782 non-null   float64\n",
      " 6   Gz      5782 non-null   float64\n",
      "dtypes: float64(6), int64(1)\n",
      "memory usage: 316.3 KB\n",
      "None\n",
      "<class 'pandas.core.frame.DataFrame'>\n",
      "RangeIndex: 5782 entries, 0 to 5781\n",
      "Data columns (total 7 columns):\n",
      " #   Column  Non-Null Count  Dtype  \n",
      "---  ------  --------------  -----  \n",
      " 0   Time    5782 non-null   int64  \n",
      " 1   Ax      5782 non-null   float64\n",
      " 2   Ay      5782 non-null   float64\n",
      " 3   Az      5782 non-null   float64\n",
      " 4   Gx      5782 non-null   float64\n",
      " 5   Gy      5782 non-null   float64\n",
      " 6   Gz      5782 non-null   float64\n",
      "dtypes: float64(6), int64(1)\n",
      "memory usage: 316.3 KB\n",
      "None\n"
     ]
    }
   ],
   "source": [
    "#Change file names in the following two\n",
    "cook_df = pd.read_csv('./samples/cook.csv')\n",
    "flick_df = pd.read_csv('./samples/flickup.csv')\n",
    "\n",
    "#getting rid of last 5 elements from cook_df\n",
    "flick_df = flick_df[0:len(flick_df)-10]\n",
    "\n",
    "#since one second is about 118 rows, im getting rid of the extra rows that would make it evenly divisible\n",
    "cook_df = cook_df[0:len(cook_df)-len(cook_df)%118]\n",
    "flick_df = flick_df[0:len(flick_df)-len(flick_df)%118]\n",
    "\n",
    "print(cook_df.info())\n",
    "print(flick_df.info())"
   ]
  },
  {
   "cell_type": "code",
   "execution_count": 7,
   "metadata": {},
   "outputs": [],
   "source": [
    "#scaling this puts all the values between 0 and 1\n",
    "cook_df[['Ax','Ay','Az']] = (cook_df[['Ax','Ay','Az']] + 4)/8\n",
    "flick_df[['Ax','Ay','Az']] = (flick_df[['Ax','Ay','Az']] + 4)/8\n",
    "\n",
    "cook_df[['Gx','Gy','Gz']] = (cook_df[['Gx','Gy','Gz']] + 2000)/4000\n",
    "flick_df[['Gx','Gy','Gz']] = (flick_df[['Gx','Gy','Gz']] + 2000)/4000\n",
    "\n",
    "cook_df['Class'] = 'cook'\n",
    "flick_df['Class'] = 'flick'"
   ]
  },
  {
   "cell_type": "code",
   "execution_count": 8,
   "metadata": {},
   "outputs": [
    {
     "name": "stdout",
     "output_type": "stream",
     "text": [
      "   Time        Ax        Ay        Az        Gx        Gy        Gz  Class\n",
      "0     2  0.486405  0.478210  0.671585  0.497223  0.510376  0.499649      1\n",
      "1    10  0.493500  0.474228  0.670349  0.496780  0.515778  0.498718      1\n",
      "2    18  0.492096  0.476258  0.679122  0.496170  0.519775  0.497681      1\n",
      "3    26  0.488556  0.478942  0.683990  0.496490  0.525742  0.496445      1\n",
      "4    34  0.481857  0.476761  0.675095  0.497879  0.531738  0.495636      1\n",
      "<class 'pandas.core.frame.DataFrame'>\n",
      "RangeIndex: 5782 entries, 0 to 5781\n",
      "Data columns (total 8 columns):\n",
      " #   Column  Non-Null Count  Dtype  \n",
      "---  ------  --------------  -----  \n",
      " 0   Time    5782 non-null   int64  \n",
      " 1   Ax      5782 non-null   float64\n",
      " 2   Ay      5782 non-null   float64\n",
      " 3   Az      5782 non-null   float64\n",
      " 4   Gx      5782 non-null   float64\n",
      " 5   Gy      5782 non-null   float64\n",
      " 6   Gz      5782 non-null   float64\n",
      " 7   Class   5782 non-null   int64  \n",
      "dtypes: float64(6), int64(2)\n",
      "memory usage: 361.5 KB\n",
      "None\n"
     ]
    }
   ],
   "source": [
    "#one hot encoding manually\n",
    "cook_df['Class'] = 0\n",
    "flick_df['Class'] = 1\n",
    "\n",
    "print(flick_df.head())\n",
    "print(flick_df.info())"
   ]
  },
  {
   "cell_type": "code",
   "execution_count": 9,
   "metadata": {},
   "outputs": [],
   "source": [
    "def formatData(X,Y, window):\n",
    "    Xarr = []\n",
    "    Yarr = []\n",
    "\n",
    "    for i in range(0, window*(len(X)//window), int(window)):\n",
    "        Xarr.append(X.iloc[i:i+window].values)  \n",
    "        Yarr.append(Y.iloc[0])\n",
    "\n",
    "    return np.array(Xarr), np.array(Yarr)"
   ]
  },
  {
   "cell_type": "code",
   "execution_count": 10,
   "metadata": {},
   "outputs": [
    {
     "name": "stdout",
     "output_type": "stream",
     "text": [
      "[[[0.486405   0.47821    0.671585   0.4972229  0.51037598 0.49964905]\n",
      "  [0.4935     0.4742275  0.67034875 0.49678039 0.51577759 0.49871826]\n",
      "  [0.49209625 0.4762575  0.6791225  0.49617005 0.51977539 0.49768066]\n",
      "  ...\n",
      "  [0.59964    0.4995875  0.44567875 0.50679016 0.4851532  0.50369263]\n",
      "  [0.59732    0.49827625 0.4426425  0.50509644 0.4851532  0.50369263]\n",
      "  [0.59516875 0.49466    0.44278    0.5040741  0.47891235 0.50323486]]\n",
      "\n",
      " [[0.59375    0.48991375 0.4458925  0.50413513 0.47233582 0.50358581]\n",
      "  [0.58781375 0.48468    0.44551125 0.50570679 0.46484375 0.50468445]\n",
      "  [0.5791625  0.47847    0.44493125 0.50782776 0.45605469 0.50683594]\n",
      "  ...\n",
      "  [0.5022425  0.4968875  0.64238    0.50941467 0.45953369 0.50071716]\n",
      "  [0.49321    0.49180625 0.6428075  0.50769043 0.4621582  0.49813843]\n",
      "  [0.48400875 0.48756375 0.6454925  0.50474548 0.46562195 0.49653625]]\n",
      "\n",
      " [[0.476395   0.48381    0.65332    0.50108337 0.46910095 0.4961853 ]\n",
      "  [0.47062625 0.4798275  0.6634375  0.49812317 0.47268677 0.49678039]\n",
      "  [0.46672    0.479645   0.6661525  0.49633789 0.47650147 0.49813843]\n",
      "  ...\n",
      "  [0.505875   0.4901125  0.6478125  0.49874878 0.55982971 0.50575256]\n",
      "  [0.5098575  0.4924625  0.642135   0.49839783 0.56053162 0.50532532]\n",
      "  [0.51686125 0.49105875 0.6363825  0.49847412 0.56068421 0.50517273]]\n",
      "\n",
      " [[0.52423125 0.4915775  0.6322325  0.49885559 0.56030273 0.50518799]\n",
      "  [0.52742    0.497315   0.6383975  0.49996948 0.55921936 0.5050354 ]\n",
      "  [0.53561375 0.495285   0.63952625 0.50175476 0.55947876 0.50442505]\n",
      "  ...\n",
      "  [0.58659375 0.4883875  0.43156375 0.50494385 0.49168396 0.49977112]\n",
      "  [0.58126875 0.4856725  0.42755125 0.50621033 0.48434448 0.49926758]\n",
      "  [0.577865   0.47868375 0.42149375 0.50682068 0.47671509 0.49981689]]]\n",
      "[[0]\n",
      " [0]\n",
      " [0]\n",
      " [0]]\n"
     ]
    }
   ],
   "source": [
    "window = 119\n",
    "cook_x, cook_y = formatData(cook_df[['Ax', 'Ay', 'Az', 'Gx', 'Gy', 'Gz']], cook_df[['Class']], window)\n",
    "flick_x, flick_y = formatData(flick_df[['Ax', 'Ay', 'Az','Gx', 'Gy', 'Gz']], flick_df[['Class']], window)\n",
    "\n",
    "\n",
    "print(flick_x[:4])\n",
    "print(cook_y[:4])"
   ]
  },
  {
   "cell_type": "code",
   "execution_count": 18,
   "metadata": {},
   "outputs": [
    {
     "name": "stdout",
     "output_type": "stream",
     "text": [
      "(48, 119, 6)\n",
      "(96, 119, 6)\n"
     ]
    }
   ],
   "source": [
    "#concatenating the flick and cook datasets before randomizing\n",
    "inputs = np.concatenate((cook_x, flick_x))\n",
    "outputs = np.concatenate((cook_y, flick_y))\n",
    "\n",
    "print(cook_x.shape)\n",
    "print(inputs.shape)"
   ]
  },
  {
   "cell_type": "code",
   "execution_count": 19,
   "metadata": {},
   "outputs": [
    {
     "name": "stdout",
     "output_type": "stream",
     "text": [
      "(96, 119, 6)\n"
     ]
    }
   ],
   "source": [
    "inputs.reshape(96, 119*6)\n",
    "print(inputs.shape)"
   ]
  },
  {
   "cell_type": "code",
   "execution_count": 20,
   "metadata": {},
   "outputs": [
    {
     "name": "stdout",
     "output_type": "stream",
     "text": [
      "Data set randomization and splitting complete.\n"
     ]
    }
   ],
   "source": [
    "num_inputs = len(inputs)\n",
    "randomize = np.arange(num_inputs)\n",
    "np.random.shuffle(randomize)\n",
    "\n",
    "# Swap the consecutive indexes (0, 1, 2, etc) with the randomized indexes\n",
    "inputs = inputs[randomize]\n",
    "outputs = outputs[randomize]\n",
    "\n",
    "# Split the recordings (group of samples) into three sets: training, testing and validation\n",
    "TRAIN_SPLIT = int(0.6 * num_inputs)\n",
    "TEST_SPLIT = int(0.2 * num_inputs + TRAIN_SPLIT)\n",
    "\n",
    "inputs_train, inputs_test, inputs_validate = np.split(inputs, [TRAIN_SPLIT, TEST_SPLIT])\n",
    "outputs_train, outputs_test, outputs_validate = np.split(outputs, [TRAIN_SPLIT, TEST_SPLIT])\n",
    "\n",
    "print(\"Data set randomization and splitting complete.\")"
   ]
  },
  {
   "cell_type": "code",
   "execution_count": 21,
   "metadata": {},
   "outputs": [
    {
     "name": "stdout",
     "output_type": "stream",
     "text": [
      "(57, 119, 6) (19, 119, 6) (20, 119, 6)\n",
      "(57, 1)\n"
     ]
    }
   ],
   "source": [
    "print(inputs_train.shape, inputs_test.shape, inputs_validate.shape)\n",
    "print(outputs_train.shape)"
   ]
  },
  {
   "cell_type": "code",
   "execution_count": 23,
   "metadata": {},
   "outputs": [
    {
     "name": "stdout",
     "output_type": "stream",
     "text": [
      "(57, 714)\n"
     ]
    }
   ],
   "source": [
    "#shape needs to be formatted such that the inputs to each example is in a 1D representation\n",
    "inputs_train = inputs_train.reshape(57, 119*6)\n",
    "print(inputs_train.shape)\n"
   ]
  }
 ],
 "metadata": {
  "kernelspec": {
   "display_name": "env",
   "language": "python",
   "name": "python3"
  },
  "language_info": {
   "codemirror_mode": {
    "name": "ipython",
    "version": 3
   },
   "file_extension": ".py",
   "mimetype": "text/x-python",
   "name": "python",
   "nbconvert_exporter": "python",
   "pygments_lexer": "ipython3",
   "version": "3.11.0"
  },
  "orig_nbformat": 4
 },
 "nbformat": 4,
 "nbformat_minor": 2
}
