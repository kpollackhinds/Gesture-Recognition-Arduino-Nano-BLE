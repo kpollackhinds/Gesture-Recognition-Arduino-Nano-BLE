{
 "cells": [
  {
   "attachments": {},
   "cell_type": "markdown",
   "metadata": {},
   "source": [
    "This code is basically the same as model_training.py except written in a jupyter notebook so it can work with google colab."
   ]
  },
  {
   "cell_type": "code",
   "execution_count": 1,
   "metadata": {},
   "outputs": [],
   "source": [
    "import pandas as pd\n",
    "import numpy as np\n",
    "import matplotlib.pyplot as plt\n",
    "import seaborn as sns\n",
    "\n",
    "from sklearn.preprocessing import MinMaxScaler, OneHotEncoder, LabelBinarizer\n",
    "from sklearn.metrics import confusion_matrix"
   ]
  },
  {
   "cell_type": "code",
   "execution_count": 3,
   "metadata": {},
   "outputs": [],
   "source": [
    "import tensorflow as tf\n",
    "from tensorflow import keras\n",
    "from keras import layers"
   ]
  },
  {
   "cell_type": "code",
   "execution_count": 4,
   "metadata": {},
   "outputs": [],
   "source": [
    "#seed allows for exact repeateability\n",
    "SEED = 1337\n",
    "np.random.seed(SEED)\n",
    "tf.random.set_seed(SEED)"
   ]
  },
  {
   "cell_type": "code",
   "execution_count": 7,
   "metadata": {},
   "outputs": [
    {
     "name": "stdout",
     "output_type": "stream",
     "text": [
      "<class 'pandas.core.frame.DataFrame'>\n",
      "RangeIndex: 5782 entries, 0 to 5781\n",
      "Data columns (total 7 columns):\n",
      " #   Column  Non-Null Count  Dtype  \n",
      "---  ------  --------------  -----  \n",
      " 0   Time    5782 non-null   int64  \n",
      " 1   Ax      5782 non-null   float64\n",
      " 2   Ay      5782 non-null   float64\n",
      " 3   Az      5782 non-null   float64\n",
      " 4   Gx      5782 non-null   float64\n",
      " 5   Gy      5782 non-null   float64\n",
      " 6   Gz      5782 non-null   float64\n",
      "dtypes: float64(6), int64(1)\n",
      "memory usage: 316.3 KB\n",
      "None\n",
      "<class 'pandas.core.frame.DataFrame'>\n",
      "RangeIndex: 5782 entries, 0 to 5781\n",
      "Data columns (total 7 columns):\n",
      " #   Column  Non-Null Count  Dtype  \n",
      "---  ------  --------------  -----  \n",
      " 0   Time    5782 non-null   int64  \n",
      " 1   Ax      5782 non-null   float64\n",
      " 2   Ay      5782 non-null   float64\n",
      " 3   Az      5782 non-null   float64\n",
      " 4   Gx      5782 non-null   float64\n",
      " 5   Gy      5782 non-null   float64\n",
      " 6   Gz      5782 non-null   float64\n",
      "dtypes: float64(6), int64(1)\n",
      "memory usage: 316.3 KB\n",
      "None\n",
      "<class 'pandas.core.frame.DataFrame'>\n",
      "RangeIndex: 5782 entries, 0 to 5781\n",
      "Data columns (total 7 columns):\n",
      " #   Column  Non-Null Count  Dtype  \n",
      "---  ------  --------------  -----  \n",
      " 0   Time    5782 non-null   int64  \n",
      " 1   Ax      5782 non-null   float64\n",
      " 2   Ay      5782 non-null   float64\n",
      " 3   Az      5782 non-null   float64\n",
      " 4   Gx      5782 non-null   float64\n",
      " 5   Gy      5782 non-null   float64\n",
      " 6   Gz      5782 non-null   float64\n",
      "dtypes: float64(6), int64(1)\n",
      "memory usage: 316.3 KB\n",
      "None\n"
     ]
    }
   ],
   "source": [
    "#Change file names in the following two\n",
    "cook_df = pd.read_csv('./samples/cook.csv')\n",
    "flick_df = pd.read_csv('./samples/flickup.csv')\n",
    "jog_df = pd.read_csv('./samples/jog.csv')\n",
    "\n",
    "#getting rid of last 5 elements from flick_df and extra elements from jog.csv\n",
    "flick_df = flick_df[0:len(flick_df)-10]\n",
    "jog_df = jog_df[0:len(jog_df)-120]\n",
    "\n",
    "#since one second is about 118 rows, im getting rid of the extra rows that would make it evenly divisible\n",
    "cook_df = cook_df[0:len(cook_df)-len(cook_df)%118]\n",
    "flick_df = flick_df[0:len(flick_df)-len(flick_df)%118]\n",
    "jog_df = jog_df[0:len(jog_df)-len(jog_df)%118]\n",
    "\n",
    "\n",
    "print(cook_df.info())\n",
    "print(flick_df.info())\n",
    "print(jog_df.info())"
   ]
  },
  {
   "cell_type": "code",
   "execution_count": 8,
   "metadata": {},
   "outputs": [
    {
     "name": "stdout",
     "output_type": "stream",
     "text": [
      "   Time        Ax        Ay        Az        Gx        Gy        Gz  Class\n",
      "0     2  0.530854  0.587951  0.601914  0.485809  0.489273  0.506958  flick\n",
      "1    11  0.551118  0.602448  0.619857  0.485672  0.492020  0.508347  flick\n",
      "2    20  0.564361  0.605911  0.633393  0.484222  0.493546  0.509857  flick\n",
      "3    29  0.577454  0.614441  0.649200  0.482834  0.496689  0.511261  flick\n",
      "4    38  0.599304  0.619247  0.661499  0.482941  0.499023  0.512115  flick\n",
      "<class 'pandas.core.frame.DataFrame'>\n",
      "RangeIndex: 5782 entries, 0 to 5781\n",
      "Data columns (total 8 columns):\n",
      " #   Column  Non-Null Count  Dtype  \n",
      "---  ------  --------------  -----  \n",
      " 0   Time    5782 non-null   int64  \n",
      " 1   Ax      5782 non-null   float64\n",
      " 2   Ay      5782 non-null   float64\n",
      " 3   Az      5782 non-null   float64\n",
      " 4   Gx      5782 non-null   float64\n",
      " 5   Gy      5782 non-null   float64\n",
      " 6   Gz      5782 non-null   float64\n",
      " 7   Class   5782 non-null   object \n",
      "dtypes: float64(6), int64(1), object(1)\n",
      "memory usage: 361.5+ KB\n",
      "None\n"
     ]
    }
   ],
   "source": [
    "#scaling this puts all the values between 0 and 1\n",
    "cook_df[['Ax','Ay','Az']] = (cook_df[['Ax','Ay','Az']] + 4)/8\n",
    "flick_df[['Ax','Ay','Az']] = (flick_df[['Ax','Ay','Az']] + 4)/8\n",
    "jog_df[['Ax','Ay','Az']] = (jog_df[['Ax','Ay','Az']] + 4)/8\n",
    "\n",
    "\n",
    "cook_df[['Gx','Gy','Gz']] = (cook_df[['Gx','Gy','Gz']] + 2000)/4000\n",
    "flick_df[['Gx','Gy','Gz']] = (flick_df[['Gx','Gy','Gz']] + 2000)/4000\n",
    "jog_df[['Gx','Gy','Gz']] = (jog_df[['Gx','Gy','Gz']] + 2000)/4000\n",
    "\n",
    "cook_df['Class'] = 'cook'\n",
    "flick_df['Class'] = 'flick'\n",
    "jog_df['Class'] = 'jog'\n",
    "\n",
    "print(jog_df.head())\n",
    "print(flick_df.info())"
   ]
  },
  {
   "cell_type": "code",
   "execution_count": 6,
   "metadata": {},
   "outputs": [
    {
     "name": "stdout",
     "output_type": "stream",
     "text": [
      "   Time        Ax        Ay        Az        Gx        Gy        Gz  Class\n",
      "0     2  0.486405  0.478210  0.671585  0.497223  0.510376  0.499649      1\n",
      "1    10  0.493500  0.474228  0.670349  0.496780  0.515778  0.498718      1\n",
      "2    18  0.492096  0.476258  0.679122  0.496170  0.519775  0.497681      1\n",
      "3    26  0.488556  0.478942  0.683990  0.496490  0.525742  0.496445      1\n",
      "4    34  0.481857  0.476761  0.675095  0.497879  0.531738  0.495636      1\n",
      "<class 'pandas.core.frame.DataFrame'>\n",
      "RangeIndex: 5782 entries, 0 to 5781\n",
      "Data columns (total 8 columns):\n",
      " #   Column  Non-Null Count  Dtype  \n",
      "---  ------  --------------  -----  \n",
      " 0   Time    5782 non-null   int64  \n",
      " 1   Ax      5782 non-null   float64\n",
      " 2   Ay      5782 non-null   float64\n",
      " 3   Az      5782 non-null   float64\n",
      " 4   Gx      5782 non-null   float64\n",
      " 5   Gy      5782 non-null   float64\n",
      " 6   Gz      5782 non-null   float64\n",
      " 7   Class   5782 non-null   int64  \n",
      "dtypes: float64(6), int64(2)\n",
      "memory usage: 361.5 KB\n",
      "None\n"
     ]
    }
   ],
   "source": [
    "# #one hot encoding manually\n",
    "# cook_df['Class'] = 0\n",
    "# flick_df['Class'] = 1\n",
    "\n",
    "# print(flick_df.head())\n",
    "# print(flick_df.info())"
   ]
  },
  {
   "cell_type": "code",
   "execution_count": 9,
   "metadata": {},
   "outputs": [],
   "source": [
    "def formatData(X,Y, window):\n",
    "    Xarr = []\n",
    "    Yarr = []\n",
    "\n",
    "    for i in range(0, window*(len(X)//window), int(window)):\n",
    "        Xarr.append(X.iloc[i:i+window].values)  \n",
    "        Yarr.append(Y.iloc[0])\n",
    "\n",
    "    return np.array(Xarr), np.array(Yarr)"
   ]
  },
  {
   "cell_type": "code",
   "execution_count": 7,
   "metadata": {},
   "outputs": [
    {
     "name": "stdout",
     "output_type": "stream",
     "text": [
      "     Class\n",
      "0     cook\n",
      "1     cook\n",
      "2     cook\n",
      "3     cook\n",
      "4     cook\n",
      "...    ...\n",
      "5777  cook\n",
      "5778  cook\n",
      "5779  cook\n",
      "5780  cook\n",
      "5781  cook\n",
      "\n",
      "[5782 rows x 1 columns]\n"
     ]
    }
   ],
   "source": [
    "print(cook_df[['Class']])"
   ]
  },
  {
   "cell_type": "code",
   "execution_count": 8,
   "metadata": {},
   "outputs": [
    {
     "name": "stdout",
     "output_type": "stream",
     "text": [
      "[[[0.486405   0.47821    0.671585   0.4972229  0.51037598 0.49964905]\n",
      "  [0.4935     0.4742275  0.67034875 0.49678039 0.51577759 0.49871826]\n",
      "  [0.49209625 0.4762575  0.6791225  0.49617005 0.51977539 0.49768066]\n",
      "  ...\n",
      "  [0.59964    0.4995875  0.44567875 0.50679016 0.4851532  0.50369263]\n",
      "  [0.59732    0.49827625 0.4426425  0.50509644 0.4851532  0.50369263]\n",
      "  [0.59516875 0.49466    0.44278    0.5040741  0.47891235 0.50323486]]\n",
      "\n",
      " [[0.59375    0.48991375 0.4458925  0.50413513 0.47233582 0.50358581]\n",
      "  [0.58781375 0.48468    0.44551125 0.50570679 0.46484375 0.50468445]\n",
      "  [0.5791625  0.47847    0.44493125 0.50782776 0.45605469 0.50683594]\n",
      "  ...\n",
      "  [0.5022425  0.4968875  0.64238    0.50941467 0.45953369 0.50071716]\n",
      "  [0.49321    0.49180625 0.6428075  0.50769043 0.4621582  0.49813843]\n",
      "  [0.48400875 0.48756375 0.6454925  0.50474548 0.46562195 0.49653625]]\n",
      "\n",
      " [[0.476395   0.48381    0.65332    0.50108337 0.46910095 0.4961853 ]\n",
      "  [0.47062625 0.4798275  0.6634375  0.49812317 0.47268677 0.49678039]\n",
      "  [0.46672    0.479645   0.6661525  0.49633789 0.47650147 0.49813843]\n",
      "  ...\n",
      "  [0.505875   0.4901125  0.6478125  0.49874878 0.55982971 0.50575256]\n",
      "  [0.5098575  0.4924625  0.642135   0.49839783 0.56053162 0.50532532]\n",
      "  [0.51686125 0.49105875 0.6363825  0.49847412 0.56068421 0.50517273]]\n",
      "\n",
      " [[0.52423125 0.4915775  0.6322325  0.49885559 0.56030273 0.50518799]\n",
      "  [0.52742    0.497315   0.6383975  0.49996948 0.55921936 0.5050354 ]\n",
      "  [0.53561375 0.495285   0.63952625 0.50175476 0.55947876 0.50442505]\n",
      "  ...\n",
      "  [0.58659375 0.4883875  0.43156375 0.50494385 0.49168396 0.49977112]\n",
      "  [0.58126875 0.4856725  0.42755125 0.50621033 0.48434448 0.49926758]\n",
      "  [0.577865   0.47868375 0.42149375 0.50682068 0.47671509 0.49981689]]]\n",
      "[['cook']\n",
      " ['cook']\n",
      " ['cook']\n",
      " ['cook']]\n"
     ]
    }
   ],
   "source": [
    "window = 119\n",
    "cook_x, cook_y = formatData(cook_df[['Ax', 'Ay', 'Az', 'Gx', 'Gy', 'Gz']], cook_df[['Class']], window)\n",
    "flick_x, flick_y = formatData(flick_df[['Ax', 'Ay', 'Az','Gx', 'Gy', 'Gz']], flick_df[['Class']], window)\n",
    "jog_x, jog_y = formatData(jog_df[['Ax', 'Ay', 'Az','Gx', 'Gy', 'Gz']], jog_df[['Class']], window)\n",
    "\n",
    "\n",
    "\n",
    "print(jog_x[:4])\n",
    "print(cook_y[:4])"
   ]
  },
  {
   "cell_type": "code",
   "execution_count": 9,
   "metadata": {},
   "outputs": [
    {
     "name": "stdout",
     "output_type": "stream",
     "text": [
      "(48, 119, 6)\n",
      "(96, 119, 6)\n",
      "(96, 1)\n"
     ]
    }
   ],
   "source": [
    "#concatenating the flick and cook datasets before randomizing\n",
    "inputs = np.concatenate((cook_x, flick_x, jog_x))\n",
    "outputs = np.concatenate((cook_y, flick_y, jog_y))\n",
    "\n",
    "print(cook_x.shape)\n",
    "print(inputs.shape)\n",
    "print(outputs.shape)"
   ]
  },
  {
   "cell_type": "code",
   "execution_count": 10,
   "metadata": {},
   "outputs": [
    {
     "name": "stdout",
     "output_type": "stream",
     "text": [
      "(96, 2)\n",
      "[[1. 0.]\n",
      " [1. 0.]\n",
      " [1. 0.]\n",
      " [1. 0.]\n",
      " [1. 0.]]\n"
     ]
    }
   ],
   "source": [
    "#One hot encoding with sklearn\n",
    "enc = OneHotEncoder(handle_unknown= 'ignore', sparse_output=False)\n",
    "enc.fit(outputs)\n",
    "\n",
    "outputs = enc.transform(outputs)\n",
    "print(outputs.shape)\n",
    "print(outputs[:5])\n",
    "\n",
    "lb = LabelBinarizer()\n",
    "lb.fit(outputs)\n",
    "\n",
    "outputs = lb.transform(outputs)"
   ]
  },
  {
   "cell_type": "code",
   "execution_count": 10,
   "metadata": {},
   "outputs": [
    {
     "name": "stdout",
     "output_type": "stream",
     "text": [
      "(96, 2)\n",
      "[[0. 1.]\n",
      " [0. 1.]\n",
      " [0. 1.]\n",
      " [0. 1.]\n",
      " [0. 1.]]\n"
     ]
    }
   ],
   "source": [
    "##This code goes with the manual one hot encoding\n",
    "# updated_output = np.zeros((96,2))\n",
    "# for i in range(outputs.shape[0]):\n",
    "#   if outputs[i][0] == 0:\n",
    "#     updated_output[i] = np.append(outputs[i], 1)\n",
    "#   else:\n",
    "#     updated_output[i] = np.append(outputs[i], 0)\n",
    "\n",
    "# outputs = updated_output\n",
    "# print(outputs.shape)\n",
    "# print(outputs[:5])"
   ]
  },
  {
   "cell_type": "code",
   "execution_count": 11,
   "metadata": {},
   "outputs": [
    {
     "name": "stdout",
     "output_type": "stream",
     "text": [
      "(96, 714)\n"
     ]
    }
   ],
   "source": [
    "#shape needs to be formatted such that the inputs to each example is in a 1D representation\n",
    "\n",
    "inputs = inputs.reshape(-1, 119*6)\n",
    "print(inputs.shape)"
   ]
  },
  {
   "cell_type": "code",
   "execution_count": 12,
   "metadata": {},
   "outputs": [
    {
     "name": "stdout",
     "output_type": "stream",
     "text": [
      "Data set randomization and splitting complete.\n"
     ]
    }
   ],
   "source": [
    "num_inputs = len(inputs)\n",
    "randomize = np.arange(num_inputs)\n",
    "np.random.shuffle(randomize)\n",
    "\n",
    "# Swap the consecutive indexes (0, 1, 2, etc) with the randomized indexes\n",
    "inputs = inputs[randomize]\n",
    "outputs = outputs[randomize]\n",
    "\n",
    "# Split the recordings (group of samples) into three sets: training, testing and validation\n",
    "TRAIN_SPLIT = int(0.6 * num_inputs)\n",
    "TEST_SPLIT = int(0.2 * num_inputs + TRAIN_SPLIT)\n",
    "\n",
    "inputs_train, inputs_test, inputs_validate = np.split(inputs, [TRAIN_SPLIT, TEST_SPLIT])\n",
    "outputs_train, outputs_test, outputs_validate = np.split(outputs, [TRAIN_SPLIT, TEST_SPLIT])\n",
    "\n",
    "print(\"Data set randomization and splitting complete.\")"
   ]
  },
  {
   "cell_type": "code",
   "execution_count": 13,
   "metadata": {},
   "outputs": [
    {
     "name": "stdout",
     "output_type": "stream",
     "text": [
      "(57, 714) (19, 714) (20, 714)\n",
      "(57, 2)\n"
     ]
    }
   ],
   "source": [
    "print(inputs_train.shape, inputs_test.shape, inputs_validate.shape)\n",
    "print(outputs_train.shape)"
   ]
  },
  {
   "cell_type": "code",
   "execution_count": 14,
   "metadata": {},
   "outputs": [],
   "source": [
    "model = keras.Sequential()\n",
    "model.add(layers.Dense(50, activation='relu'))\n",
    "model.add(layers.Dense(15, activation= 'relu'))\n",
    "model.add(layers.Dense(2, activation= 'softmax'))\n",
    "model.compile(optimizer= 'rmsprop', loss= 'mse', metrics=['mae', 'accuracy'])\n",
    "          "
   ]
  },
  {
   "cell_type": "code",
   "execution_count": 15,
   "metadata": {},
   "outputs": [
    {
     "name": "stdout",
     "output_type": "stream",
     "text": [
      "Epoch 1/70\n",
      "57/57 [==============================] - 1s 4ms/step - loss: 0.2861 - mae: 0.5203 - val_loss: 0.2764 - val_mae: 0.5172\n",
      "Epoch 2/70\n",
      "57/57 [==============================] - 0s 2ms/step - loss: 0.2563 - mae: 0.5003 - val_loss: 0.2827 - val_mae: 0.5213\n",
      "Epoch 3/70\n",
      "57/57 [==============================] - 0s 2ms/step - loss: 0.2548 - mae: 0.4982 - val_loss: 0.2586 - val_mae: 0.5069\n",
      "Epoch 4/70\n",
      "57/57 [==============================] - 0s 2ms/step - loss: 0.2550 - mae: 0.5001 - val_loss: 0.2649 - val_mae: 0.5098\n",
      "Epoch 5/70\n",
      "57/57 [==============================] - 0s 2ms/step - loss: 0.2452 - mae: 0.4884 - val_loss: 0.2670 - val_mae: 0.5092\n",
      "Epoch 6/70\n",
      "57/57 [==============================] - 0s 2ms/step - loss: 0.2446 - mae: 0.4894 - val_loss: 0.2617 - val_mae: 0.5045\n",
      "Epoch 7/70\n",
      "57/57 [==============================] - 0s 2ms/step - loss: 0.2408 - mae: 0.4822 - val_loss: 0.2367 - val_mae: 0.4860\n",
      "Epoch 8/70\n",
      "57/57 [==============================] - 0s 2ms/step - loss: 0.2352 - mae: 0.4814 - val_loss: 0.2582 - val_mae: 0.4964\n",
      "Epoch 9/70\n",
      "57/57 [==============================] - 0s 2ms/step - loss: 0.2242 - mae: 0.4629 - val_loss: 0.2652 - val_mae: 0.4950\n",
      "Epoch 10/70\n",
      "57/57 [==============================] - 0s 2ms/step - loss: 0.2179 - mae: 0.4555 - val_loss: 0.2349 - val_mae: 0.4731\n",
      "Epoch 11/70\n",
      "57/57 [==============================] - 0s 2ms/step - loss: 0.2043 - mae: 0.4397 - val_loss: 0.2216 - val_mae: 0.4569\n",
      "Epoch 12/70\n",
      "57/57 [==============================] - 0s 2ms/step - loss: 0.1863 - mae: 0.4142 - val_loss: 0.1773 - val_mae: 0.4175\n",
      "Epoch 13/70\n",
      "57/57 [==============================] - 0s 2ms/step - loss: 0.1711 - mae: 0.3997 - val_loss: 0.2318 - val_mae: 0.4396\n",
      "Epoch 14/70\n",
      "57/57 [==============================] - 0s 2ms/step - loss: 0.1555 - mae: 0.3738 - val_loss: 0.1534 - val_mae: 0.3886\n",
      "Epoch 15/70\n",
      "57/57 [==============================] - 0s 2ms/step - loss: 0.1362 - mae: 0.3450 - val_loss: 0.1278 - val_mae: 0.3405\n",
      "Epoch 16/70\n",
      "57/57 [==============================] - 0s 3ms/step - loss: 0.1145 - mae: 0.3087 - val_loss: 0.1122 - val_mae: 0.3283\n",
      "Epoch 17/70\n",
      "57/57 [==============================] - 0s 2ms/step - loss: 0.0991 - mae: 0.2908 - val_loss: 0.1116 - val_mae: 0.3305\n",
      "Epoch 18/70\n",
      "57/57 [==============================] - 0s 2ms/step - loss: 0.0840 - mae: 0.2599 - val_loss: 0.0792 - val_mae: 0.2504\n",
      "Epoch 19/70\n",
      "57/57 [==============================] - 0s 2ms/step - loss: 0.0669 - mae: 0.2270 - val_loss: 0.0622 - val_mae: 0.2363\n",
      "Epoch 20/70\n",
      "57/57 [==============================] - 0s 2ms/step - loss: 0.0543 - mae: 0.1986 - val_loss: 0.0488 - val_mae: 0.1950\n",
      "Epoch 21/70\n",
      "57/57 [==============================] - 0s 2ms/step - loss: 0.0472 - mae: 0.1763 - val_loss: 0.0374 - val_mae: 0.1768\n",
      "Epoch 22/70\n",
      "57/57 [==============================] - 0s 2ms/step - loss: 0.0329 - mae: 0.1475 - val_loss: 0.0328 - val_mae: 0.1738\n",
      "Epoch 23/70\n",
      "57/57 [==============================] - 0s 2ms/step - loss: 0.0267 - mae: 0.1381 - val_loss: 0.0257 - val_mae: 0.1338\n",
      "Epoch 24/70\n",
      "57/57 [==============================] - 0s 2ms/step - loss: 0.0239 - mae: 0.1216 - val_loss: 0.0171 - val_mae: 0.1183\n",
      "Epoch 25/70\n",
      "57/57 [==============================] - 0s 2ms/step - loss: 0.0197 - mae: 0.1049 - val_loss: 0.0194 - val_mae: 0.1106\n",
      "Epoch 26/70\n",
      "57/57 [==============================] - 0s 2ms/step - loss: 0.0154 - mae: 0.0969 - val_loss: 0.0199 - val_mae: 0.1077\n",
      "Epoch 27/70\n",
      "57/57 [==============================] - 0s 2ms/step - loss: 0.0131 - mae: 0.0781 - val_loss: 0.0129 - val_mae: 0.1108\n",
      "Epoch 28/70\n",
      "57/57 [==============================] - 0s 2ms/step - loss: 0.0206 - mae: 0.0948 - val_loss: 0.0064 - val_mae: 0.0720\n",
      "Epoch 29/70\n",
      "57/57 [==============================] - 0s 2ms/step - loss: 0.0093 - mae: 0.0661 - val_loss: 0.0070 - val_mae: 0.0665\n",
      "Epoch 30/70\n",
      "57/57 [==============================] - 0s 2ms/step - loss: 0.0070 - mae: 0.0584 - val_loss: 0.0053 - val_mae: 0.0587\n",
      "Epoch 31/70\n",
      "57/57 [==============================] - 0s 2ms/step - loss: 0.0084 - mae: 0.0656 - val_loss: 0.0034 - val_mae: 0.0507\n",
      "Epoch 32/70\n",
      "57/57 [==============================] - 0s 2ms/step - loss: 0.0109 - mae: 0.0520 - val_loss: 0.0061 - val_mae: 0.0558\n",
      "Epoch 33/70\n",
      "57/57 [==============================] - 0s 2ms/step - loss: 0.0024 - mae: 0.0387 - val_loss: 0.0025 - val_mae: 0.0406\n",
      "Epoch 34/70\n",
      "57/57 [==============================] - 0s 2ms/step - loss: 0.0062 - mae: 0.0386 - val_loss: 0.0022 - val_mae: 0.0366\n",
      "Epoch 35/70\n",
      "57/57 [==============================] - 0s 2ms/step - loss: 0.0049 - mae: 0.0383 - val_loss: 0.0016 - val_mae: 0.0334\n",
      "Epoch 36/70\n",
      "57/57 [==============================] - 0s 2ms/step - loss: 0.0014 - mae: 0.0298 - val_loss: 0.0015 - val_mae: 0.0296\n",
      "Epoch 37/70\n",
      "57/57 [==============================] - 0s 2ms/step - loss: 0.0022 - mae: 0.0258 - val_loss: 0.0012 - val_mae: 0.0265\n",
      "Epoch 38/70\n",
      "57/57 [==============================] - 0s 2ms/step - loss: 0.0036 - mae: 0.0310 - val_loss: 0.0016 - val_mae: 0.0278\n",
      "Epoch 39/70\n",
      "57/57 [==============================] - 0s 2ms/step - loss: 0.0031 - mae: 0.0322 - val_loss: 0.0012 - val_mae: 0.0247\n",
      "Epoch 40/70\n",
      "57/57 [==============================] - 0s 2ms/step - loss: 4.4313e-04 - mae: 0.0163 - val_loss: 0.0014 - val_mae: 0.0245\n",
      "Epoch 41/70\n",
      "57/57 [==============================] - 0s 2ms/step - loss: 0.0032 - mae: 0.0257 - val_loss: 0.0043 - val_mae: 0.0501\n",
      "Epoch 42/70\n",
      "57/57 [==============================] - 0s 2ms/step - loss: 0.0010 - mae: 0.0187 - val_loss: 0.0406 - val_mae: 0.1392\n",
      "Epoch 43/70\n",
      "57/57 [==============================] - 0s 2ms/step - loss: 0.0018 - mae: 0.0215 - val_loss: 4.0116e-04 - val_mae: 0.0160\n",
      "Epoch 44/70\n",
      "57/57 [==============================] - 0s 2ms/step - loss: 0.0035 - mae: 0.0218 - val_loss: 9.3268e-04 - val_mae: 0.0193\n",
      "Epoch 45/70\n",
      "57/57 [==============================] - 0s 2ms/step - loss: 2.0985e-04 - mae: 0.0109 - val_loss: 3.2031e-04 - val_mae: 0.0138\n",
      "Epoch 46/70\n",
      "57/57 [==============================] - 0s 2ms/step - loss: 0.0031 - mae: 0.0238 - val_loss: 3.4260e-04 - val_mae: 0.0135\n",
      "Epoch 47/70\n",
      "57/57 [==============================] - 0s 2ms/step - loss: 0.0015 - mae: 0.0140 - val_loss: 0.0264 - val_mae: 0.1081\n",
      "Epoch 48/70\n",
      "57/57 [==============================] - 0s 3ms/step - loss: 4.8500e-04 - mae: 0.0109 - val_loss: 2.7486e-04 - val_mae: 0.0121\n",
      "Epoch 49/70\n",
      "57/57 [==============================] - 0s 2ms/step - loss: 0.0013 - mae: 0.0132 - val_loss: 0.0016 - val_mae: 0.0233\n",
      "Epoch 50/70\n",
      "57/57 [==============================] - 0s 2ms/step - loss: 1.3055e-04 - mae: 0.0079 - val_loss: 1.9631e-04 - val_mae: 0.0103\n",
      "Epoch 51/70\n",
      "57/57 [==============================] - 0s 2ms/step - loss: 9.0419e-04 - mae: 0.0131 - val_loss: 4.1775e-04 - val_mae: 0.0124\n",
      "Epoch 52/70\n",
      "57/57 [==============================] - 0s 2ms/step - loss: 7.9440e-05 - mae: 0.0066 - val_loss: 1.0599e-04 - val_mae: 0.0097\n",
      "Epoch 53/70\n",
      "57/57 [==============================] - 0s 2ms/step - loss: 0.0034 - mae: 0.0170 - val_loss: 7.9178e-05 - val_mae: 0.0081\n",
      "Epoch 54/70\n",
      "57/57 [==============================] - 0s 2ms/step - loss: 6.5997e-05 - mae: 0.0067 - val_loss: 0.0032 - val_mae: 0.0330\n",
      "Epoch 55/70\n",
      "57/57 [==============================] - 0s 2ms/step - loss: 0.0018 - mae: 0.0144 - val_loss: 1.6729e-04 - val_mae: 0.0086\n",
      "Epoch 56/70\n",
      "57/57 [==============================] - 0s 3ms/step - loss: 4.9093e-05 - mae: 0.0053 - val_loss: 2.1087e-04 - val_mae: 0.0089\n",
      "Epoch 57/70\n",
      "57/57 [==============================] - 0s 3ms/step - loss: 0.0030 - mae: 0.0148 - val_loss: 2.8876e-04 - val_mae: 0.0099\n",
      "Epoch 58/70\n",
      "57/57 [==============================] - 0s 3ms/step - loss: 6.5120e-05 - mae: 0.0056 - val_loss: 0.0212 - val_mae: 0.0864\n",
      "Epoch 59/70\n",
      "57/57 [==============================] - 0s 3ms/step - loss: 4.2502e-04 - mae: 0.0080 - val_loss: 2.1305e-04 - val_mae: 0.0086\n",
      "Epoch 60/70\n",
      "57/57 [==============================] - 0s 3ms/step - loss: 8.5208e-04 - mae: 0.0114 - val_loss: 8.6832e-04 - val_mae: 0.0158\n",
      "Epoch 61/70\n",
      "57/57 [==============================] - 0s 3ms/step - loss: 4.1284e-05 - mae: 0.0046 - val_loss: 6.8032e-05 - val_mae: 0.0060\n",
      "Epoch 62/70\n",
      "57/57 [==============================] - 0s 2ms/step - loss: 0.0083 - mae: 0.0184 - val_loss: 8.4036e-04 - val_mae: 0.0154\n",
      "Epoch 63/70\n",
      "57/57 [==============================] - 0s 3ms/step - loss: 4.3214e-05 - mae: 0.0044 - val_loss: 6.9860e-05 - val_mae: 0.0058\n",
      "Epoch 64/70\n",
      "57/57 [==============================] - 0s 3ms/step - loss: 7.9771e-04 - mae: 0.0109 - val_loss: 5.5306e-04 - val_mae: 0.0123\n",
      "Epoch 65/70\n",
      "57/57 [==============================] - 0s 2ms/step - loss: 3.3701e-05 - mae: 0.0041 - val_loss: 6.0098e-05 - val_mae: 0.0054\n",
      "Epoch 66/70\n",
      "57/57 [==============================] - 0s 2ms/step - loss: 1.6812e-04 - mae: 0.0053 - val_loss: 0.0027 - val_mae: 0.0280\n",
      "Epoch 67/70\n",
      "57/57 [==============================] - 0s 2ms/step - loss: 3.9940e-05 - mae: 0.0040 - val_loss: 4.7657e-05 - val_mae: 0.0049\n",
      "Epoch 68/70\n",
      "57/57 [==============================] - 0s 2ms/step - loss: 0.0032 - mae: 0.0130 - val_loss: 3.2548e-05 - val_mae: 0.0052\n",
      "Epoch 69/70\n",
      "57/57 [==============================] - 0s 2ms/step - loss: 8.2465e-05 - mae: 0.0050 - val_loss: 9.8389e-05 - val_mae: 0.0058\n",
      "Epoch 70/70\n",
      "57/57 [==============================] - 0s 2ms/step - loss: 6.3889e-04 - mae: 0.0084 - val_loss: 3.4478e-05 - val_mae: 0.0043\n"
     ]
    }
   ],
   "source": [
    "history = model.fit(inputs_train, outputs_train, epochs = 70, batch_size = 1, validation_data=(inputs_validate, outputs_validate))"
   ]
  },
  {
   "cell_type": "code",
   "execution_count": 16,
   "metadata": {},
   "outputs": [
    {
     "data": {
      "image/png": "[encoded data removed]",
      "text/plain": [
       "<Figure size 2000x1000 with 1 Axes>"
      ]
     },
     "metadata": {},
     "output_type": "display_data"
    },
    {
     "name": "stdout",
     "output_type": "stream",
     "text": [
      "[20.0, 10.0]\n"
     ]
    }
   ],
   "source": [
    "# increase the size of the graphs. The default size is (6,4).\n",
    "plt.rcParams[\"figure.figsize\"] = (20,10)\n",
    "\n",
    "# graph the loss, the model above is configure to use \"mean squared error\" as the loss function\n",
    "loss = history.history['loss']\n",
    "val_loss = history.history['val_loss']\n",
    "epochs = range(1, len(loss) + 1)\n",
    "plt.plot(epochs, loss, 'g.', label='Training loss')\n",
    "plt.plot(epochs, val_loss, 'b', label='Validation loss')\n",
    "plt.title('Training and validation loss')\n",
    "plt.xlabel('Epochs')\n",
    "plt.ylabel('Loss')\n",
    "plt.legend()\n",
    "plt.show()\n",
    "\n",
    "print(plt.rcParams[\"figure.figsize\"])"
   ]
  },
  {
   "cell_type": "code",
   "execution_count": 17,
   "metadata": {},
   "outputs": [],
   "source": [
    "#saving model \n",
    "model.save('model.h5')"
   ]
  },
  {
   "cell_type": "code",
   "execution_count": 18,
   "metadata": {},
   "outputs": [],
   "source": [
    "np.save('inputs_test.npy', inputs_test)\n",
    "np.save('outputs_test.npy', outputs_test)"
   ]
  },
  {
   "cell_type": "code",
   "execution_count": 26,
   "metadata": {},
   "outputs": [
    {
     "name": "stdout",
     "output_type": "stream",
     "text": [
      "1/1 [==============================] - 0s 19ms/step\n",
      "predictions =\n",
      " [[1.    0.   ]\n",
      " [1.    0.   ]\n",
      " [0.996 0.004]\n",
      " [0.999 0.001]\n",
      " [1.    0.   ]\n",
      " [0.006 0.994]\n",
      " [0.006 0.994]\n",
      " [1.    0.   ]\n",
      " [0.006 0.994]\n",
      " [0.006 0.994]\n",
      " [0.006 0.994]\n",
      " [0.999 0.001]\n",
      " [1.    0.   ]\n",
      " [0.006 0.994]\n",
      " [0.006 0.994]\n",
      " [0.006 0.994]\n",
      " [1.    0.   ]\n",
      " [0.006 0.994]\n",
      " [0.006 0.994]]\n",
      "actual =\n",
      " [[1. 0.]\n",
      " [1. 0.]\n",
      " [1. 0.]\n",
      " [1. 0.]\n",
      " [1. 0.]\n",
      " [0. 1.]\n",
      " [0. 1.]\n",
      " [1. 0.]\n",
      " [0. 1.]\n",
      " [0. 1.]\n",
      " [0. 1.]\n",
      " [1. 0.]\n",
      " [1. 0.]\n",
      " [0. 1.]\n",
      " [0. 1.]\n",
      " [0. 1.]\n",
      " [1. 0.]\n",
      " [0. 1.]\n",
      " [0. 1.]]\n"
     ]
    }
   ],
   "source": [
    "# use the model to predict the test inputs\n",
    "predictions = model.predict(inputs_test)\n",
    "print(\"predictions =\\n\", np.round(predictions, decimals=3))\n",
    "print(\"actual =\\n\", outputs_test)"
   ]
  },
  {
   "cell_type": "code",
   "execution_count": 27,
   "metadata": {},
   "outputs": [],
   "source": [
    "def getMetrics(pred, gt, threshold = 0.7):\n",
    "    \n",
    "    # get locations of indexes with postive indentificaitons\n",
    "    pred_labels = np.argmax(pred, axis=1)\n",
    "    gt_labels = np.argmax(gt, axis= 1)\n",
    "    \n",
    "    #get number of values that dont meet required identification threshold\n",
    "    below_threshold = sum(np.max(pred, axis=1) < threshold)\n",
    "\n",
    "    num_correct = sum(pred_labels == gt_labels) - below_threshold\n",
    "    num_predictions = len(pred)\n",
    "\n",
    "    accuracy = num_correct/num_predictions\n",
    "    print(\"Accuracy: {:.6%}\".format(accuracy))\n",
    "\n",
    "    return accuracy"
   ]
  },
  {
   "cell_type": "code",
   "execution_count": 32,
   "metadata": {},
   "outputs": [],
   "source": [
    "def plot_cm(gt, pred, class_names, threshold = None):\n",
    "  cm = confusion_matrix(gt, pred)\n",
    "  fig, ax = plt.subplots(figsize=(18, 16)) \n",
    "  ax = sns.heatmap(\n",
    "      cm, \n",
    "      annot=True, \n",
    "      fmt=\"d\", \n",
    "      cmap=sns.diverging_palette(220, 20, n=7),\n",
    "      ax=ax\n",
    "  )\n",
    "\n",
    "  plt.ylabel('Actual')\n",
    "  plt.xlabel('Predicted')\n",
    "  ax.set_xticklabels(class_names)\n",
    "  ax.set_yticklabels(class_names)\n",
    "  b, t = plt.ylim() # discover the values for bottom and top\n",
    "  b += 0.5 # Add 0.5 to the bottom\n",
    "  t -= 0.5 # Subtract 0.5 from the top\n",
    "  plt.ylim(b, t) # update the ylim(bottom, top) values\n",
    "  plt.show() # ta-da!"
   ]
  },
  {
   "cell_type": "code",
   "execution_count": 35,
   "metadata": {},
   "outputs": [
    {
     "name": "stdout",
     "output_type": "stream",
     "text": [
      "Accuracy: 42.105263%\n"
     ]
    },
    {
     "ename": "TypeError",
     "evalue": "OneHotEncoder.inverse_transform() got an unexpected keyword argument 'threshold'",
     "output_type": "error",
     "traceback": [
      "\u001b[1;31m---------------------------------------------------------------------------\u001b[0m",
      "\u001b[1;31mTypeError\u001b[0m                                 Traceback (most recent call last)",
      "Cell \u001b[1;32mIn[35], line 4\u001b[0m\n\u001b[0;32m      1\u001b[0m getMetrics(predictions, outputs_test, threshold\u001b[39m=\u001b[39m\u001b[39m0.998\u001b[39m)\n\u001b[0;32m      3\u001b[0m plot_cm(\n\u001b[1;32m----> 4\u001b[0m     enc\u001b[39m.\u001b[39;49minverse_transform(outputs_test, threshold\u001b[39m=\u001b[39;49m \u001b[39m0.998\u001b[39;49m),\n\u001b[0;32m      5\u001b[0m     enc\u001b[39m.\u001b[39minverse_transform(predictions,threshold\u001b[39m=\u001b[39m \u001b[39m0.998\u001b[39m),\n\u001b[0;32m      6\u001b[0m     enc\u001b[39m.\u001b[39mcategories_[\u001b[39m0\u001b[39m]\n\u001b[0;32m      7\u001b[0m )\n",
      "\u001b[1;31mTypeError\u001b[0m: OneHotEncoder.inverse_transform() got an unexpected keyword argument 'threshold'"
     ]
    }
   ],
   "source": [
    "getMetrics(predictions, outputs_test, threshold=0.998)\n",
    "\n",
    "plot_cm(\n",
    "    enc.inverse_transform(outputs_test, threshold= 0.998),\n",
    "    enc.inverse_transform(predictions,threshold= 0.998),\n",
    "    enc.categories_[0]\n",
    ")"
   ]
  }
 ],
 "metadata": {
  "kernelspec": {
   "display_name": "env",
   "language": "python",
   "name": "python3"
  },
  "language_info": {
   "codemirror_mode": {
    "name": "ipython",
    "version": 3
   },
   "file_extension": ".py",
   "mimetype": "text/x-python",
   "name": "python",
   "nbconvert_exporter": "python",
   "pygments_lexer": "ipython3",
   "version": "3.11.0"
  },
  "orig_nbformat": 4
 },
 "nbformat": 4,
 "nbformat_minor": 2
}
