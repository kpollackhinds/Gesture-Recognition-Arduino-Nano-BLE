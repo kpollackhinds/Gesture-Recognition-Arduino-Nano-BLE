{
 "cells": [
  {
   "attachments": {},
   "cell_type": "markdown",
   "metadata": {},
   "source": [
    "This code is basically the same as model_training.py except written in a jupyter notebook so it can work with google colab."
   ]
  },
  {
   "cell_type": "code",
   "execution_count": 1,
   "metadata": {},
   "outputs": [],
   "source": [
    "import pandas as pd\n",
    "import numpy as np\n",
    "import matplotlib.pyplot as plt\n",
    "import seaborn as sns\n",
    "\n",
    "from sklearn.preprocessing import MinMaxScaler, OneHotEncoder, LabelBinarizer\n",
    "from sklearn.metrics import confusion_matrix"
   ]
  },
  {
   "cell_type": "code",
   "execution_count": 2,
   "metadata": {},
   "outputs": [],
   "source": [
    "import tensorflow as tf\n",
    "from tensorflow import keras\n",
    "from keras import layers"
   ]
  },
  {
   "cell_type": "code",
   "execution_count": 3,
   "metadata": {},
   "outputs": [],
   "source": [
    "#seed allows for exact repeateability\n",
    "SEED = 1337\n",
    "np.random.seed(SEED)\n",
    "tf.random.set_seed(SEED)"
   ]
  },
  {
   "cell_type": "code",
   "execution_count": 4,
   "metadata": {},
   "outputs": [
    {
     "name": "stdout",
     "output_type": "stream",
     "text": [
      "<class 'pandas.core.frame.DataFrame'>\n",
      "RangeIndex: 5782 entries, 0 to 5781\n",
      "Data columns (total 7 columns):\n",
      " #   Column  Non-Null Count  Dtype  \n",
      "---  ------  --------------  -----  \n",
      " 0   Time    5782 non-null   int64  \n",
      " 1   Ax      5782 non-null   float64\n",
      " 2   Ay      5782 non-null   float64\n",
      " 3   Az      5782 non-null   float64\n",
      " 4   Gx      5782 non-null   float64\n",
      " 5   Gy      5782 non-null   float64\n",
      " 6   Gz      5782 non-null   float64\n",
      "dtypes: float64(6), int64(1)\n",
      "memory usage: 316.3 KB\n",
      "None\n",
      "<class 'pandas.core.frame.DataFrame'>\n",
      "RangeIndex: 5782 entries, 0 to 5781\n",
      "Data columns (total 7 columns):\n",
      " #   Column  Non-Null Count  Dtype  \n",
      "---  ------  --------------  -----  \n",
      " 0   Time    5782 non-null   int64  \n",
      " 1   Ax      5782 non-null   float64\n",
      " 2   Ay      5782 non-null   float64\n",
      " 3   Az      5782 non-null   float64\n",
      " 4   Gx      5782 non-null   float64\n",
      " 5   Gy      5782 non-null   float64\n",
      " 6   Gz      5782 non-null   float64\n",
      "dtypes: float64(6), int64(1)\n",
      "memory usage: 316.3 KB\n",
      "None\n",
      "<class 'pandas.core.frame.DataFrame'>\n",
      "RangeIndex: 5782 entries, 0 to 5781\n",
      "Data columns (total 7 columns):\n",
      " #   Column  Non-Null Count  Dtype  \n",
      "---  ------  --------------  -----  \n",
      " 0   Time    5782 non-null   int64  \n",
      " 1   Ax      5782 non-null   float64\n",
      " 2   Ay      5782 non-null   float64\n",
      " 3   Az      5782 non-null   float64\n",
      " 4   Gx      5782 non-null   float64\n",
      " 5   Gy      5782 non-null   float64\n",
      " 6   Gz      5782 non-null   float64\n",
      "dtypes: float64(6), int64(1)\n",
      "memory usage: 316.3 KB\n",
      "None\n"
     ]
    }
   ],
   "source": [
    "#Change file names in the following two\n",
    "cook_df = pd.read_csv('./samples/cook.csv')\n",
    "flick_df = pd.read_csv('./samples/flickup.csv')\n",
    "jog_df = pd.read_csv('./samples/jog.csv')\n",
    "\n",
    "#getting rid of last 5 elements from flick_df and extra elements from jog.csv\n",
    "flick_df = flick_df[0:len(flick_df)-10]\n",
    "jog_df = jog_df[0:len(jog_df)-120]\n",
    "\n",
    "#since one second is about 118 rows, im getting rid of the extra rows that would make it evenly divisible\n",
    "cook_df = cook_df[0:len(cook_df)-len(cook_df)%118]\n",
    "flick_df = flick_df[0:len(flick_df)-len(flick_df)%118]\n",
    "jog_df = jog_df[0:len(jog_df)-len(jog_df)%118]\n",
    "\n",
    "\n",
    "print(cook_df.info())\n",
    "print(flick_df.info())\n",
    "print(jog_df.info())"
   ]
  },
  {
   "cell_type": "code",
   "execution_count": 5,
   "metadata": {},
   "outputs": [
    {
     "name": "stdout",
     "output_type": "stream",
     "text": [
      "   Time        Ax        Ay        Az        Gx        Gy        Gz Class\n",
      "0     2  0.530854  0.587951  0.601914  0.485809  0.489273  0.506958   jog\n",
      "1    11  0.551118  0.602448  0.619857  0.485672  0.492020  0.508347   jog\n",
      "2    20  0.564361  0.605911  0.633393  0.484222  0.493546  0.509857   jog\n",
      "3    29  0.577454  0.614441  0.649200  0.482834  0.496689  0.511261   jog\n",
      "4    38  0.599304  0.619247  0.661499  0.482941  0.499023  0.512115   jog\n",
      "<class 'pandas.core.frame.DataFrame'>\n",
      "RangeIndex: 5782 entries, 0 to 5781\n",
      "Data columns (total 8 columns):\n",
      " #   Column  Non-Null Count  Dtype  \n",
      "---  ------  --------------  -----  \n",
      " 0   Time    5782 non-null   int64  \n",
      " 1   Ax      5782 non-null   float64\n",
      " 2   Ay      5782 non-null   float64\n",
      " 3   Az      5782 non-null   float64\n",
      " 4   Gx      5782 non-null   float64\n",
      " 5   Gy      5782 non-null   float64\n",
      " 6   Gz      5782 non-null   float64\n",
      " 7   Class   5782 non-null   object \n",
      "dtypes: float64(6), int64(1), object(1)\n",
      "memory usage: 361.5+ KB\n",
      "None\n"
     ]
    }
   ],
   "source": [
    "#scaling this puts all the values between 0 and 1\n",
    "cook_df[['Ax','Ay','Az']] = (cook_df[['Ax','Ay','Az']] + 4)/8\n",
    "flick_df[['Ax','Ay','Az']] = (flick_df[['Ax','Ay','Az']] + 4)/8\n",
    "jog_df[['Ax','Ay','Az']] = (jog_df[['Ax','Ay','Az']] + 4)/8\n",
    "\n",
    "\n",
    "cook_df[['Gx','Gy','Gz']] = (cook_df[['Gx','Gy','Gz']] + 2000)/4000\n",
    "flick_df[['Gx','Gy','Gz']] = (flick_df[['Gx','Gy','Gz']] + 2000)/4000\n",
    "jog_df[['Gx','Gy','Gz']] = (jog_df[['Gx','Gy','Gz']] + 2000)/4000\n",
    "\n",
    "cook_df['Class'] = 'cook'\n",
    "flick_df['Class'] = 'flick'\n",
    "jog_df['Class'] = 'jog'\n",
    "\n",
    "print(jog_df.head())\n",
    "print(flick_df.info())"
   ]
  },
  {
   "cell_type": "code",
   "execution_count": 6,
   "metadata": {},
   "outputs": [
    {
     "name": "stdout",
     "output_type": "stream",
     "text": [
      "   Time        Ax        Ay        Az        Gx        Gy        Gz  Class\n",
      "0     2  0.486405  0.478210  0.671585  0.497223  0.510376  0.499649      1\n",
      "1    10  0.493500  0.474228  0.670349  0.496780  0.515778  0.498718      1\n",
      "2    18  0.492096  0.476258  0.679122  0.496170  0.519775  0.497681      1\n",
      "3    26  0.488556  0.478942  0.683990  0.496490  0.525742  0.496445      1\n",
      "4    34  0.481857  0.476761  0.675095  0.497879  0.531738  0.495636      1\n",
      "<class 'pandas.core.frame.DataFrame'>\n",
      "RangeIndex: 5782 entries, 0 to 5781\n",
      "Data columns (total 8 columns):\n",
      " #   Column  Non-Null Count  Dtype  \n",
      "---  ------  --------------  -----  \n",
      " 0   Time    5782 non-null   int64  \n",
      " 1   Ax      5782 non-null   float64\n",
      " 2   Ay      5782 non-null   float64\n",
      " 3   Az      5782 non-null   float64\n",
      " 4   Gx      5782 non-null   float64\n",
      " 5   Gy      5782 non-null   float64\n",
      " 6   Gz      5782 non-null   float64\n",
      " 7   Class   5782 non-null   int64  \n",
      "dtypes: float64(6), int64(2)\n",
      "memory usage: 361.5 KB\n",
      "None\n"
     ]
    }
   ],
   "source": [
    "# #one hot encoding manually\n",
    "# cook_df['Class'] = 0\n",
    "# flick_df['Class'] = 1\n",
    "\n",
    "# print(flick_df.head())\n",
    "# print(flick_df.info())"
   ]
  },
  {
   "cell_type": "code",
   "execution_count": 6,
   "metadata": {},
   "outputs": [],
   "source": [
    "def formatData(X,Y, window):\n",
    "    Xarr = []\n",
    "    Yarr = []\n",
    "\n",
    "    for i in range(0, window*(len(X)//window), int(window)):\n",
    "        Xarr.append(X.iloc[i:i+window].values)  \n",
    "        Yarr.append(Y.iloc[0])\n",
    "\n",
    "    return np.array(Xarr), np.array(Yarr)"
   ]
  },
  {
   "cell_type": "code",
   "execution_count": 7,
   "metadata": {},
   "outputs": [
    {
     "name": "stdout",
     "output_type": "stream",
     "text": [
      "     Class\n",
      "0     cook\n",
      "1     cook\n",
      "2     cook\n",
      "3     cook\n",
      "4     cook\n",
      "...    ...\n",
      "5777  cook\n",
      "5778  cook\n",
      "5779  cook\n",
      "5780  cook\n",
      "5781  cook\n",
      "\n",
      "[5782 rows x 1 columns]\n"
     ]
    }
   ],
   "source": [
    "print(cook_df[['Class']])"
   ]
  },
  {
   "cell_type": "code",
   "execution_count": 7,
   "metadata": {},
   "outputs": [
    {
     "name": "stdout",
     "output_type": "stream",
     "text": [
      "[[[0.53085375 0.58795125 0.60191375 0.48580933 0.48927307 0.50695801]\n",
      "  [0.5511175  0.6024475  0.6198575  0.485672   0.49201965 0.50834656]\n",
      "  [0.56436125 0.60591125 0.6333925  0.48422241 0.49354553 0.50985718]\n",
      "  ...\n",
      "  [0.5458525  0.4804225  0.50274625 0.50389099 0.49310303 0.49028015]\n",
      "  [0.55345125 0.48338375 0.5069275  0.50389099 0.49310303 0.48875427]\n",
      "  [0.562515   0.48780875 0.5140075  0.50372315 0.49459839 0.48728943]]\n",
      "\n",
      " [[0.5709225  0.4956975  0.52465875 0.50462341 0.495224   0.48660278]\n",
      "  [0.58493    0.50465375 0.5526275  0.50666809 0.49549866 0.48628235]\n",
      "  [0.62641875 0.51425125 0.5670775  0.50920105 0.49569702 0.48542786]\n",
      "  ...\n",
      "  [0.5045775  0.53042625 0.5346525  0.49778747 0.49975586 0.50027466]\n",
      "  [0.48692375 0.51971375 0.5328675  0.49571228 0.50085449 0.50579834]\n",
      "  [0.47380125 0.51260375 0.528595   0.49403381 0.50218201 0.50535584]]\n",
      "\n",
      " [[0.46392875 0.5125425  0.5263675  0.49298096 0.50408935 0.50923157]\n",
      "  [0.45967125 0.5169225  0.5260925  0.49243164 0.50599671 0.51296997]\n",
      "  [0.46086125 0.5255275  0.525665   0.49246216 0.50752258 0.51574707]\n",
      "  ...\n",
      "  [0.726685   0.56921375 0.53961125 0.49234009 0.47705078 0.50585938]\n",
      "  [0.724075   0.55867    0.54737875 0.49234009 0.47705078 0.50585938]\n",
      "  [0.7200475  0.5466     0.5582425  0.49285889 0.47433472 0.50622559]]\n",
      "\n",
      " [[0.7103275  0.52867125 0.56311    0.49325561 0.47555542 0.50724793]\n",
      "  [0.70010375 0.50628625 0.5650325  0.4931488  0.48010254 0.50857544]\n",
      "  [0.69084125 0.48487875 0.56405625 0.49284363 0.48606872 0.51051331]\n",
      "  ...\n",
      "  [0.60649125 0.49450625 0.53135625 0.49937439 0.49229431 0.49520874]\n",
      "  [0.6180725  0.49614    0.53978    0.50041199 0.49449158 0.49034119]\n",
      "  [0.63096625 0.4965975  0.548325   0.50144959 0.49957275 0.48829651]]]\n",
      "[['cook']\n",
      " ['cook']\n",
      " ['cook']\n",
      " ['cook']]\n"
     ]
    }
   ],
   "source": [
    "window = 119\n",
    "cook_x, cook_y = formatData(cook_df[['Ax', 'Ay', 'Az', 'Gx', 'Gy', 'Gz']], cook_df[['Class']], window)\n",
    "flick_x, flick_y = formatData(flick_df[['Ax', 'Ay', 'Az','Gx', 'Gy', 'Gz']], flick_df[['Class']], window)\n",
    "jog_x, jog_y = formatData(jog_df[['Ax', 'Ay', 'Az','Gx', 'Gy', 'Gz']], jog_df[['Class']], window)\n",
    "\n",
    "\n",
    "\n",
    "print(jog_x[:4])\n",
    "print(cook_y[:4])"
   ]
  },
  {
   "cell_type": "code",
   "execution_count": 8,
   "metadata": {},
   "outputs": [
    {
     "name": "stdout",
     "output_type": "stream",
     "text": [
      "(48, 119, 6)\n",
      "(144, 119, 6)\n",
      "(144, 1)\n"
     ]
    }
   ],
   "source": [
    "#concatenating the flick and cook datasets before randomizing\n",
    "inputs = np.concatenate((cook_x, flick_x, jog_x))\n",
    "outputs = np.concatenate((cook_y, flick_y, jog_y))\n",
    "\n",
    "print(cook_x.shape)\n",
    "print(inputs.shape)\n",
    "print(outputs.shape)"
   ]
  },
  {
   "cell_type": "code",
   "execution_count": 9,
   "metadata": {},
   "outputs": [
    {
     "name": "stdout",
     "output_type": "stream",
     "text": [
      "(144, 3)\n",
      "[[1 0 0]\n",
      " [1 0 0]\n",
      " [1 0 0]\n",
      " [1 0 0]\n",
      " [1 0 0]]\n"
     ]
    }
   ],
   "source": [
    "#One hot encoding with sklearn\n",
    "#using labelbinarizer only works well with more than two classes. Look into sklearn.onehotencoder for binary classification, or if you are encoding featurese\n",
    "lb = LabelBinarizer()\n",
    "lb.fit(outputs)\n",
    "\n",
    "outputs = lb.transform(outputs)\n",
    "print(outputs.shape)\n",
    "print(outputs[:5])\n"
   ]
  },
  {
   "cell_type": "code",
   "execution_count": 10,
   "metadata": {},
   "outputs": [
    {
     "name": "stdout",
     "output_type": "stream",
     "text": [
      "(96, 2)\n",
      "[[0. 1.]\n",
      " [0. 1.]\n",
      " [0. 1.]\n",
      " [0. 1.]\n",
      " [0. 1.]]\n"
     ]
    }
   ],
   "source": [
    "##This code goes with the manual one hot encoding\n",
    "# updated_output = np.zeros((96,2))\n",
    "# for i in range(outputs.shape[0]):\n",
    "#   if outputs[i][0] == 0:\n",
    "#     updated_output[i] = np.append(outputs[i], 1)\n",
    "#   else:\n",
    "#     updated_output[i] = np.append(outputs[i], 0)\n",
    "\n",
    "# outputs = updated_output\n",
    "# print(outputs.shape)\n",
    "# print(outputs[:5])"
   ]
  },
  {
   "cell_type": "code",
   "execution_count": 10,
   "metadata": {},
   "outputs": [
    {
     "name": "stdout",
     "output_type": "stream",
     "text": [
      "(144, 714)\n"
     ]
    }
   ],
   "source": [
    "#shape needs to be formatted such that the inputs to each example is in a 1D representation\n",
    "\n",
    "inputs = inputs.reshape(-1, 119*6)\n",
    "print(inputs.shape)"
   ]
  },
  {
   "cell_type": "code",
   "execution_count": 11,
   "metadata": {},
   "outputs": [
    {
     "name": "stdout",
     "output_type": "stream",
     "text": [
      "Data set randomization and splitting complete.\n"
     ]
    }
   ],
   "source": [
    "num_inputs = len(inputs)\n",
    "randomize = np.arange(num_inputs)\n",
    "np.random.shuffle(randomize)\n",
    "\n",
    "# Swap the consecutive indexes (0, 1, 2, etc) with the randomized indexes\n",
    "inputs = inputs[randomize]\n",
    "outputs = outputs[randomize]\n",
    "\n",
    "# Split the recordings (group of samples) into three sets: training, testing and validation\n",
    "TRAIN_SPLIT = int(0.6 * num_inputs)\n",
    "TEST_SPLIT = int(0.2 * num_inputs + TRAIN_SPLIT)\n",
    "\n",
    "inputs_train, inputs_test, inputs_validate = np.split(inputs, [TRAIN_SPLIT, TEST_SPLIT])\n",
    "outputs_train, outputs_test, outputs_validate = np.split(outputs, [TRAIN_SPLIT, TEST_SPLIT])\n",
    "\n",
    "print(\"Data set randomization and splitting complete.\")"
   ]
  },
  {
   "cell_type": "code",
   "execution_count": 12,
   "metadata": {},
   "outputs": [
    {
     "name": "stdout",
     "output_type": "stream",
     "text": [
      "(86, 714) (28, 714) (30, 714)\n",
      "(86, 3)\n"
     ]
    }
   ],
   "source": [
    "print(inputs_train.shape, inputs_test.shape, inputs_validate.shape)\n",
    "print(outputs_train.shape)"
   ]
  },
  {
   "cell_type": "code",
   "execution_count": 13,
   "metadata": {},
   "outputs": [],
   "source": [
    "model = keras.Sequential()\n",
    "model.add(layers.Dense(50, activation='relu'))\n",
    "model.add(layers.Dense(15, activation= 'relu'))\n",
    "model.add(layers.Dense(3, activation= 'softmax')) #last layer has to have the same number of nodes as there are classes\n",
    "model.compile(optimizer= 'rmsprop', loss= 'mse', metrics=['mae', 'accuracy'])\n",
    "          "
   ]
  },
  {
   "cell_type": "code",
   "execution_count": 14,
   "metadata": {},
   "outputs": [
    {
     "name": "stdout",
     "output_type": "stream",
     "text": [
      "Epoch 1/100\n",
      "86/86 [==============================] - 1s 5ms/step - loss: 0.2341 - mae: 0.4228 - accuracy: 0.3953 - val_loss: 0.2475 - val_mae: 0.4564 - val_accuracy: 0.2000\n",
      "Epoch 2/100\n",
      "86/86 [==============================] - 0s 3ms/step - loss: 0.2169 - mae: 0.4295 - accuracy: 0.4419 - val_loss: 0.2302 - val_mae: 0.4343 - val_accuracy: 0.3000\n",
      "Epoch 3/100\n",
      "86/86 [==============================] - 0s 2ms/step - loss: 0.2072 - mae: 0.4205 - accuracy: 0.4767 - val_loss: 0.2119 - val_mae: 0.4224 - val_accuracy: 0.3000\n",
      "Epoch 4/100\n",
      "86/86 [==============================] - 0s 2ms/step - loss: 0.1959 - mae: 0.4089 - accuracy: 0.4884 - val_loss: 0.2362 - val_mae: 0.4335 - val_accuracy: 0.2000\n",
      "Epoch 5/100\n",
      "86/86 [==============================] - 0s 2ms/step - loss: 0.1747 - mae: 0.3811 - accuracy: 0.5930 - val_loss: 0.1758 - val_mae: 0.3844 - val_accuracy: 0.5000\n",
      "Epoch 6/100\n",
      "86/86 [==============================] - 0s 3ms/step - loss: 0.1488 - mae: 0.3403 - accuracy: 0.6628 - val_loss: 0.1814 - val_mae: 0.3736 - val_accuracy: 0.5000\n",
      "Epoch 7/100\n",
      "86/86 [==============================] - 0s 3ms/step - loss: 0.1253 - mae: 0.2990 - accuracy: 0.7093 - val_loss: 0.1471 - val_mae: 0.3327 - val_accuracy: 0.5000\n",
      "Epoch 8/100\n",
      "86/86 [==============================] - 0s 3ms/step - loss: 0.1090 - mae: 0.2679 - accuracy: 0.7326 - val_loss: 0.1865 - val_mae: 0.3455 - val_accuracy: 0.5000\n",
      "Epoch 9/100\n",
      "86/86 [==============================] - 0s 3ms/step - loss: 0.0976 - mae: 0.2419 - accuracy: 0.7791 - val_loss: 0.1194 - val_mae: 0.2881 - val_accuracy: 0.5667\n",
      "Epoch 10/100\n",
      "86/86 [==============================] - 0s 3ms/step - loss: 0.0866 - mae: 0.2292 - accuracy: 0.8605 - val_loss: 0.1282 - val_mae: 0.2940 - val_accuracy: 0.7333\n",
      "Epoch 11/100\n",
      "86/86 [==============================] - 0s 2ms/step - loss: 0.0763 - mae: 0.2105 - accuracy: 0.8605 - val_loss: 0.1199 - val_mae: 0.2733 - val_accuracy: 0.5000\n",
      "Epoch 12/100\n",
      "86/86 [==============================] - 0s 3ms/step - loss: 0.0649 - mae: 0.1944 - accuracy: 0.9419 - val_loss: 0.1246 - val_mae: 0.2656 - val_accuracy: 0.5000\n",
      "Epoch 13/100\n",
      "86/86 [==============================] - 0s 3ms/step - loss: 0.0614 - mae: 0.1797 - accuracy: 0.9070 - val_loss: 0.0587 - val_mae: 0.1981 - val_accuracy: 0.9333\n",
      "Epoch 14/100\n",
      "86/86 [==============================] - 0s 3ms/step - loss: 0.0509 - mae: 0.1679 - accuracy: 0.9884 - val_loss: 0.0452 - val_mae: 0.1749 - val_accuracy: 1.0000\n",
      "Epoch 15/100\n",
      "86/86 [==============================] - 0s 3ms/step - loss: 0.0443 - mae: 0.1479 - accuracy: 0.9419 - val_loss: 0.0401 - val_mae: 0.1617 - val_accuracy: 1.0000\n",
      "Epoch 16/100\n",
      "86/86 [==============================] - 0s 2ms/step - loss: 0.0443 - mae: 0.1455 - accuracy: 0.9767 - val_loss: 0.0685 - val_mae: 0.1970 - val_accuracy: 0.9333\n",
      "Epoch 17/100\n",
      "86/86 [==============================] - 0s 2ms/step - loss: 0.0375 - mae: 0.1336 - accuracy: 0.9651 - val_loss: 0.0458 - val_mae: 0.1611 - val_accuracy: 0.9333\n",
      "Epoch 18/100\n",
      "86/86 [==============================] - 0s 2ms/step - loss: 0.0296 - mae: 0.1162 - accuracy: 0.9651 - val_loss: 0.0213 - val_mae: 0.1160 - val_accuracy: 1.0000\n",
      "Epoch 19/100\n",
      "86/86 [==============================] - 0s 3ms/step - loss: 0.0283 - mae: 0.1059 - accuracy: 0.9884 - val_loss: 0.0461 - val_mae: 0.1514 - val_accuracy: 1.0000\n",
      "Epoch 20/100\n",
      "86/86 [==============================] - 0s 2ms/step - loss: 0.0264 - mae: 0.1020 - accuracy: 0.9884 - val_loss: 0.0145 - val_mae: 0.0945 - val_accuracy: 1.0000\n",
      "Epoch 21/100\n",
      "86/86 [==============================] - 0s 3ms/step - loss: 0.0193 - mae: 0.0847 - accuracy: 0.9535 - val_loss: 0.0175 - val_mae: 0.0950 - val_accuracy: 1.0000\n",
      "Epoch 22/100\n",
      "86/86 [==============================] - 0s 3ms/step - loss: 0.0221 - mae: 0.0841 - accuracy: 0.9651 - val_loss: 0.0211 - val_mae: 0.1027 - val_accuracy: 1.0000\n",
      "Epoch 23/100\n",
      "86/86 [==============================] - 0s 3ms/step - loss: 0.0157 - mae: 0.0780 - accuracy: 0.9884 - val_loss: 0.0102 - val_mae: 0.0763 - val_accuracy: 1.0000\n",
      "Epoch 24/100\n",
      "86/86 [==============================] - 0s 2ms/step - loss: 0.0179 - mae: 0.0743 - accuracy: 0.9884 - val_loss: 0.0174 - val_mae: 0.0901 - val_accuracy: 1.0000\n",
      "Epoch 25/100\n",
      "86/86 [==============================] - 0s 3ms/step - loss: 0.0211 - mae: 0.0737 - accuracy: 0.9651 - val_loss: 0.0083 - val_mae: 0.0646 - val_accuracy: 1.0000\n",
      "Epoch 26/100\n",
      "86/86 [==============================] - 0s 3ms/step - loss: 0.0163 - mae: 0.0662 - accuracy: 0.9884 - val_loss: 0.0081 - val_mae: 0.0640 - val_accuracy: 1.0000\n",
      "Epoch 27/100\n",
      "86/86 [==============================] - 0s 3ms/step - loss: 0.0166 - mae: 0.0638 - accuracy: 0.9767 - val_loss: 0.0039 - val_mae: 0.0472 - val_accuracy: 1.0000\n",
      "Epoch 28/100\n",
      "86/86 [==============================] - 0s 3ms/step - loss: 0.0104 - mae: 0.0570 - accuracy: 0.9884 - val_loss: 0.0034 - val_mae: 0.0440 - val_accuracy: 1.0000\n",
      "Epoch 29/100\n",
      "86/86 [==============================] - 0s 3ms/step - loss: 0.0148 - mae: 0.0517 - accuracy: 0.9767 - val_loss: 0.0042 - val_mae: 0.0470 - val_accuracy: 1.0000\n",
      "Epoch 30/100\n",
      "86/86 [==============================] - 0s 3ms/step - loss: 0.0151 - mae: 0.0512 - accuracy: 0.9767 - val_loss: 0.0074 - val_mae: 0.0555 - val_accuracy: 1.0000\n",
      "Epoch 31/100\n",
      "86/86 [==============================] - 0s 3ms/step - loss: 0.0120 - mae: 0.0512 - accuracy: 0.9767 - val_loss: 0.0104 - val_mae: 0.0615 - val_accuracy: 1.0000\n",
      "Epoch 32/100\n",
      "86/86 [==============================] - 0s 3ms/step - loss: 0.0098 - mae: 0.0412 - accuracy: 0.9884 - val_loss: 0.0022 - val_mae: 0.0340 - val_accuracy: 1.0000\n",
      "Epoch 33/100\n",
      "86/86 [==============================] - 0s 3ms/step - loss: 0.0140 - mae: 0.0469 - accuracy: 0.9651 - val_loss: 0.0015 - val_mae: 0.0282 - val_accuracy: 1.0000\n",
      "Epoch 34/100\n",
      "86/86 [==============================] - 0s 3ms/step - loss: 0.0094 - mae: 0.0412 - accuracy: 0.9767 - val_loss: 0.0032 - val_mae: 0.0376 - val_accuracy: 1.0000\n",
      "Epoch 35/100\n",
      "86/86 [==============================] - 0s 3ms/step - loss: 0.0038 - mae: 0.0301 - accuracy: 1.0000 - val_loss: 0.0013 - val_mae: 0.0252 - val_accuracy: 1.0000\n",
      "Epoch 36/100\n",
      "86/86 [==============================] - 0s 3ms/step - loss: 0.0062 - mae: 0.0336 - accuracy: 0.9884 - val_loss: 0.0028 - val_mae: 0.0326 - val_accuracy: 1.0000\n",
      "Epoch 37/100\n",
      "86/86 [==============================] - 0s 3ms/step - loss: 0.0106 - mae: 0.0360 - accuracy: 0.9767 - val_loss: 0.0993 - val_mae: 0.2068 - val_accuracy: 0.8333\n",
      "Epoch 38/100\n",
      "86/86 [==============================] - 0s 3ms/step - loss: 0.0051 - mae: 0.0282 - accuracy: 0.9884 - val_loss: 0.0035 - val_mae: 0.0286 - val_accuracy: 1.0000\n",
      "Epoch 39/100\n",
      "86/86 [==============================] - 0s 3ms/step - loss: 0.0097 - mae: 0.0330 - accuracy: 0.9884 - val_loss: 0.0071 - val_mae: 0.0488 - val_accuracy: 1.0000\n",
      "Epoch 40/100\n",
      "86/86 [==============================] - 0s 3ms/step - loss: 0.0046 - mae: 0.0283 - accuracy: 1.0000 - val_loss: 0.0016 - val_mae: 0.0234 - val_accuracy: 1.0000\n",
      "Epoch 41/100\n",
      "86/86 [==============================] - 0s 3ms/step - loss: 0.0029 - mae: 0.0247 - accuracy: 1.0000 - val_loss: 0.0012 - val_mae: 0.0240 - val_accuracy: 1.0000\n",
      "Epoch 42/100\n",
      "86/86 [==============================] - 0s 3ms/step - loss: 0.0082 - mae: 0.0286 - accuracy: 0.9884 - val_loss: 0.0013 - val_mae: 0.0225 - val_accuracy: 1.0000\n",
      "Epoch 43/100\n",
      "86/86 [==============================] - 0s 3ms/step - loss: 0.0101 - mae: 0.0302 - accuracy: 0.9884 - val_loss: 4.9974e-04 - val_mae: 0.0160 - val_accuracy: 1.0000\n",
      "Epoch 44/100\n",
      "86/86 [==============================] - 0s 3ms/step - loss: 0.0085 - mae: 0.0240 - accuracy: 0.9884 - val_loss: 7.2679e-04 - val_mae: 0.0179 - val_accuracy: 1.0000\n",
      "Epoch 45/100\n",
      "86/86 [==============================] - 0s 4ms/step - loss: 0.0089 - mae: 0.0249 - accuracy: 0.9767 - val_loss: 0.0136 - val_mae: 0.0653 - val_accuracy: 1.0000\n",
      "Epoch 46/100\n",
      "86/86 [==============================] - 0s 4ms/step - loss: 0.0027 - mae: 0.0181 - accuracy: 0.9884 - val_loss: 3.9510e-04 - val_mae: 0.0141 - val_accuracy: 1.0000\n",
      "Epoch 47/100\n",
      "86/86 [==============================] - 0s 3ms/step - loss: 0.0095 - mae: 0.0300 - accuracy: 0.9767 - val_loss: 6.4610e-04 - val_mae: 0.0164 - val_accuracy: 1.0000\n",
      "Epoch 48/100\n",
      "86/86 [==============================] - 0s 4ms/step - loss: 0.0015 - mae: 0.0139 - accuracy: 1.0000 - val_loss: 0.0016 - val_mae: 0.0230 - val_accuracy: 1.0000\n",
      "Epoch 49/100\n",
      "86/86 [==============================] - 0s 3ms/step - loss: 0.0055 - mae: 0.0224 - accuracy: 0.9884 - val_loss: 3.1843e-04 - val_mae: 0.0125 - val_accuracy: 1.0000\n",
      "Epoch 50/100\n",
      "86/86 [==============================] - 0s 3ms/step - loss: 0.0113 - mae: 0.0269 - accuracy: 0.9651 - val_loss: 4.5597e-04 - val_mae: 0.0135 - val_accuracy: 1.0000\n",
      "Epoch 51/100\n",
      "86/86 [==============================] - 0s 3ms/step - loss: 0.0071 - mae: 0.0177 - accuracy: 0.9884 - val_loss: 2.5441e-04 - val_mae: 0.0112 - val_accuracy: 1.0000\n",
      "Epoch 52/100\n",
      "86/86 [==============================] - 0s 3ms/step - loss: 0.0032 - mae: 0.0157 - accuracy: 1.0000 - val_loss: 0.0052 - val_mae: 0.0391 - val_accuracy: 1.0000\n",
      "Epoch 53/100\n",
      "86/86 [==============================] - 0s 3ms/step - loss: 0.0102 - mae: 0.0252 - accuracy: 0.9767 - val_loss: 1.7258e-04 - val_mae: 0.0092 - val_accuracy: 1.0000\n",
      "Epoch 54/100\n",
      "86/86 [==============================] - 0s 2ms/step - loss: 0.0096 - mae: 0.0227 - accuracy: 0.9767 - val_loss: 9.6128e-04 - val_mae: 0.0175 - val_accuracy: 1.0000\n",
      "Epoch 55/100\n",
      "86/86 [==============================] - 0s 3ms/step - loss: 0.0084 - mae: 0.0211 - accuracy: 0.9767 - val_loss: 0.0010 - val_mae: 0.0180 - val_accuracy: 1.0000\n",
      "Epoch 56/100\n",
      "86/86 [==============================] - 0s 3ms/step - loss: 0.0012 - mae: 0.0112 - accuracy: 1.0000 - val_loss: 1.9629e-04 - val_mae: 0.0094 - val_accuracy: 1.0000\n",
      "Epoch 57/100\n",
      "86/86 [==============================] - 0s 3ms/step - loss: 0.0076 - mae: 0.0189 - accuracy: 0.9884 - val_loss: 2.0228e-04 - val_mae: 0.0093 - val_accuracy: 1.0000\n",
      "Epoch 58/100\n",
      "86/86 [==============================] - 0s 3ms/step - loss: 0.0051 - mae: 0.0194 - accuracy: 0.9884 - val_loss: 3.6061e-04 - val_mae: 0.0114 - val_accuracy: 1.0000\n",
      "Epoch 59/100\n",
      "86/86 [==============================] - 0s 2ms/step - loss: 0.0065 - mae: 0.0175 - accuracy: 0.9884 - val_loss: 1.6548e-04 - val_mae: 0.0088 - val_accuracy: 1.0000\n",
      "Epoch 60/100\n",
      "86/86 [==============================] - 0s 3ms/step - loss: 0.0035 - mae: 0.0140 - accuracy: 0.9884 - val_loss: 2.0759e-04 - val_mae: 0.0094 - val_accuracy: 1.0000\n",
      "Epoch 61/100\n",
      "86/86 [==============================] - 0s 3ms/step - loss: 0.0019 - mae: 0.0144 - accuracy: 1.0000 - val_loss: 1.1986e-04 - val_mae: 0.0076 - val_accuracy: 1.0000\n",
      "Epoch 62/100\n",
      "86/86 [==============================] - 0s 3ms/step - loss: 0.0055 - mae: 0.0165 - accuracy: 0.9884 - val_loss: 2.9912e-04 - val_mae: 0.0108 - val_accuracy: 1.0000\n",
      "Epoch 63/100\n",
      "86/86 [==============================] - 0s 3ms/step - loss: 0.0027 - mae: 0.0150 - accuracy: 1.0000 - val_loss: 2.4097e-04 - val_mae: 0.0092 - val_accuracy: 1.0000\n",
      "Epoch 64/100\n",
      "86/86 [==============================] - 0s 3ms/step - loss: 0.0067 - mae: 0.0147 - accuracy: 0.9884 - val_loss: 1.0467e-04 - val_mae: 0.0070 - val_accuracy: 1.0000\n",
      "Epoch 65/100\n",
      "86/86 [==============================] - 0s 3ms/step - loss: 0.0030 - mae: 0.0136 - accuracy: 1.0000 - val_loss: 8.7952e-05 - val_mae: 0.0062 - val_accuracy: 1.0000\n",
      "Epoch 66/100\n",
      "86/86 [==============================] - 0s 2ms/step - loss: 0.0030 - mae: 0.0122 - accuracy: 1.0000 - val_loss: 1.7162e-04 - val_mae: 0.0082 - val_accuracy: 1.0000\n",
      "Epoch 67/100\n",
      "86/86 [==============================] - 0s 2ms/step - loss: 0.0017 - mae: 0.0115 - accuracy: 1.0000 - val_loss: 3.1863e-04 - val_mae: 0.0106 - val_accuracy: 1.0000\n",
      "Epoch 68/100\n",
      "86/86 [==============================] - 0s 2ms/step - loss: 0.0016 - mae: 0.0087 - accuracy: 1.0000 - val_loss: 1.1767e-04 - val_mae: 0.0069 - val_accuracy: 1.0000\n",
      "Epoch 69/100\n",
      "86/86 [==============================] - 0s 3ms/step - loss: 0.0055 - mae: 0.0169 - accuracy: 0.9884 - val_loss: 1.5155e-04 - val_mae: 0.0074 - val_accuracy: 1.0000\n",
      "Epoch 70/100\n",
      "86/86 [==============================] - 0s 2ms/step - loss: 0.0047 - mae: 0.0119 - accuracy: 0.9884 - val_loss: 5.7984e-05 - val_mae: 0.0054 - val_accuracy: 1.0000\n",
      "Epoch 71/100\n",
      "86/86 [==============================] - 0s 2ms/step - loss: 0.0067 - mae: 0.0142 - accuracy: 0.9767 - val_loss: 6.6906e-05 - val_mae: 0.0055 - val_accuracy: 1.0000\n",
      "Epoch 72/100\n",
      "86/86 [==============================] - 0s 3ms/step - loss: 0.0076 - mae: 0.0146 - accuracy: 0.9884 - val_loss: 0.0022 - val_mae: 0.0244 - val_accuracy: 1.0000\n",
      "Epoch 73/100\n",
      "86/86 [==============================] - 0s 4ms/step - loss: 0.0023 - mae: 0.0111 - accuracy: 1.0000 - val_loss: 7.1346e-05 - val_mae: 0.0056 - val_accuracy: 1.0000\n",
      "Epoch 74/100\n",
      "86/86 [==============================] - 0s 3ms/step - loss: 3.7733e-04 - mae: 0.0073 - accuracy: 1.0000 - val_loss: 1.1928e-04 - val_mae: 0.0066 - val_accuracy: 1.0000\n",
      "Epoch 75/100\n",
      "86/86 [==============================] - 0s 3ms/step - loss: 0.0038 - mae: 0.0152 - accuracy: 1.0000 - val_loss: 8.8080e-05 - val_mae: 0.0060 - val_accuracy: 1.0000\n",
      "Epoch 76/100\n",
      "86/86 [==============================] - 0s 3ms/step - loss: 0.0068 - mae: 0.0138 - accuracy: 0.9884 - val_loss: 2.1666e-04 - val_mae: 0.0078 - val_accuracy: 1.0000\n",
      "Epoch 77/100\n",
      "86/86 [==============================] - 0s 3ms/step - loss: 8.7482e-04 - mae: 0.0097 - accuracy: 1.0000 - val_loss: 9.9538e-05 - val_mae: 0.0058 - val_accuracy: 1.0000\n",
      "Epoch 78/100\n",
      "86/86 [==============================] - 0s 3ms/step - loss: 0.0059 - mae: 0.0115 - accuracy: 0.9884 - val_loss: 3.7804e-05 - val_mae: 0.0042 - val_accuracy: 1.0000\n",
      "Epoch 79/100\n",
      "86/86 [==============================] - 0s 3ms/step - loss: 0.0058 - mae: 0.0155 - accuracy: 0.9884 - val_loss: 2.6587e-04 - val_mae: 0.0087 - val_accuracy: 1.0000\n",
      "Epoch 80/100\n",
      "86/86 [==============================] - 0s 3ms/step - loss: 0.0036 - mae: 0.0092 - accuracy: 0.9884 - val_loss: 3.7110e-05 - val_mae: 0.0041 - val_accuracy: 1.0000\n",
      "Epoch 81/100\n",
      "86/86 [==============================] - 0s 3ms/step - loss: 0.0079 - mae: 0.0133 - accuracy: 0.9884 - val_loss: 4.3124e-05 - val_mae: 0.0040 - val_accuracy: 1.0000\n",
      "Epoch 82/100\n",
      "86/86 [==============================] - 0s 3ms/step - loss: 0.0079 - mae: 0.0141 - accuracy: 0.9884 - val_loss: 3.6301e-05 - val_mae: 0.0041 - val_accuracy: 1.0000\n",
      "Epoch 83/100\n",
      "86/86 [==============================] - 0s 3ms/step - loss: 0.0067 - mae: 0.0111 - accuracy: 0.9884 - val_loss: 5.3551e-05 - val_mae: 0.0047 - val_accuracy: 1.0000\n",
      "Epoch 84/100\n",
      "86/86 [==============================] - 0s 3ms/step - loss: 2.9162e-04 - mae: 0.0069 - accuracy: 1.0000 - val_loss: 4.3065e-05 - val_mae: 0.0042 - val_accuracy: 1.0000\n",
      "Epoch 85/100\n",
      "86/86 [==============================] - 0s 3ms/step - loss: 0.0068 - mae: 0.0112 - accuracy: 0.9884 - val_loss: 3.3969e-05 - val_mae: 0.0038 - val_accuracy: 1.0000\n",
      "Epoch 86/100\n",
      "86/86 [==============================] - 0s 3ms/step - loss: 0.0056 - mae: 0.0151 - accuracy: 0.9884 - val_loss: 1.2671e-04 - val_mae: 0.0062 - val_accuracy: 1.0000\n",
      "Epoch 87/100\n",
      "86/86 [==============================] - 0s 4ms/step - loss: 3.2955e-04 - mae: 0.0050 - accuracy: 1.0000 - val_loss: 5.6495e-05 - val_mae: 0.0044 - val_accuracy: 1.0000\n",
      "Epoch 88/100\n",
      "86/86 [==============================] - 0s 3ms/step - loss: 0.0023 - mae: 0.0103 - accuracy: 1.0000 - val_loss: 5.6156e-05 - val_mae: 0.0044 - val_accuracy: 1.0000\n",
      "Epoch 89/100\n",
      "86/86 [==============================] - 0s 3ms/step - loss: 2.2764e-04 - mae: 0.0049 - accuracy: 1.0000 - val_loss: 0.0026 - val_mae: 0.0229 - val_accuracy: 1.0000\n",
      "Epoch 90/100\n",
      "86/86 [==============================] - 0s 2ms/step - loss: 0.0053 - mae: 0.0164 - accuracy: 0.9884 - val_loss: 4.2746e-05 - val_mae: 0.0041 - val_accuracy: 1.0000\n",
      "Epoch 91/100\n",
      "86/86 [==============================] - 0s 3ms/step - loss: 7.3932e-04 - mae: 0.0060 - accuracy: 1.0000 - val_loss: 5.6233e-05 - val_mae: 0.0045 - val_accuracy: 1.0000\n",
      "Epoch 92/100\n",
      "86/86 [==============================] - 0s 3ms/step - loss: 0.0052 - mae: 0.0095 - accuracy: 0.9884 - val_loss: 7.1647e-05 - val_mae: 0.0050 - val_accuracy: 1.0000\n",
      "Epoch 93/100\n",
      "86/86 [==============================] - 0s 2ms/step - loss: 8.7922e-04 - mae: 0.0069 - accuracy: 1.0000 - val_loss: 4.1956e-05 - val_mae: 0.0040 - val_accuracy: 1.0000\n",
      "Epoch 94/100\n",
      "86/86 [==============================] - 0s 3ms/step - loss: 6.7747e-04 - mae: 0.0061 - accuracy: 1.0000 - val_loss: 1.1575e-04 - val_mae: 0.0059 - val_accuracy: 1.0000\n",
      "Epoch 95/100\n",
      "86/86 [==============================] - 0s 3ms/step - loss: 0.0085 - mae: 0.0183 - accuracy: 0.9651 - val_loss: 2.1828e-05 - val_mae: 0.0030 - val_accuracy: 1.0000\n",
      "Epoch 96/100\n",
      "86/86 [==============================] - 0s 2ms/step - loss: 1.2489e-04 - mae: 0.0034 - accuracy: 1.0000 - val_loss: 2.1155e-05 - val_mae: 0.0029 - val_accuracy: 1.0000\n",
      "Epoch 97/100\n",
      "86/86 [==============================] - 0s 3ms/step - loss: 0.0053 - mae: 0.0100 - accuracy: 0.9884 - val_loss: 2.2580e-05 - val_mae: 0.0030 - val_accuracy: 1.0000\n",
      "Epoch 98/100\n",
      "86/86 [==============================] - 0s 3ms/step - loss: 1.6122e-04 - mae: 0.0038 - accuracy: 1.0000 - val_loss: 2.1469e-05 - val_mae: 0.0030 - val_accuracy: 1.0000\n",
      "Epoch 99/100\n",
      "86/86 [==============================] - 0s 2ms/step - loss: 0.0075 - mae: 0.0101 - accuracy: 0.9884 - val_loss: 2.9158e-05 - val_mae: 0.0032 - val_accuracy: 1.0000\n",
      "Epoch 100/100\n",
      "86/86 [==============================] - 0s 2ms/step - loss: 4.4480e-04 - mae: 0.0043 - accuracy: 1.0000 - val_loss: 2.8173e-05 - val_mae: 0.0032 - val_accuracy: 1.0000\n"
     ]
    }
   ],
   "source": [
    "history = model.fit(inputs_train, outputs_train, epochs = 100, batch_size = 1, validation_data=(inputs_validate, outputs_validate))"
   ]
  },
  {
   "cell_type": "code",
   "execution_count": 15,
   "metadata": {},
   "outputs": [
    {
     "data": {
      "image/png": "[encoded data removed]",
      "text/plain": [
       "<Figure size 2000x1000 with 1 Axes>"
      ]
     },
     "metadata": {},
     "output_type": "display_data"
    },
    {
     "name": "stdout",
     "output_type": "stream",
     "text": [
      "[20.0, 10.0]\n"
     ]
    }
   ],
   "source": [
    "# increase the size of the graphs. The default size is (6,4).\n",
    "plt.rcParams[\"figure.figsize\"] = (20,10)\n",
    "\n",
    "# graph the loss, the model above is configure to use \"mean squared error\" as the loss function\n",
    "loss = history.history['loss']\n",
    "val_loss = history.history['val_loss']\n",
    "epochs = range(1, len(loss) + 1)\n",
    "plt.plot(epochs, loss, 'g.', label='Training loss')\n",
    "plt.plot(epochs, val_loss, 'b', label='Validation loss')\n",
    "plt.title('Training and validation loss')\n",
    "plt.xlabel('Epochs')\n",
    "plt.ylabel('Loss')\n",
    "plt.legend()\n",
    "plt.show()\n",
    "\n",
    "print(plt.rcParams[\"figure.figsize\"])"
   ]
  },
  {
   "cell_type": "code",
   "execution_count": 17,
   "metadata": {},
   "outputs": [],
   "source": [
    "#saving model \n",
    "model.save('model.h5')"
   ]
  },
  {
   "cell_type": "code",
   "execution_count": 18,
   "metadata": {},
   "outputs": [],
   "source": [
    "np.save('inputs_test.npy', inputs_test)\n",
    "np.save('outputs_test.npy', outputs_test)"
   ]
  },
  {
   "cell_type": "code",
   "execution_count": 16,
   "metadata": {},
   "outputs": [
    {
     "name": "stdout",
     "output_type": "stream",
     "text": [
      "1/1 [==============================] - 0s 207ms/step\n",
      "predictions =\n",
      " [[1.    0.    0.   ]\n",
      " [0.    0.    1.   ]\n",
      " [0.002 0.995 0.003]\n",
      " [0.999 0.001 0.   ]\n",
      " [0.005 0.994 0.001]\n",
      " [0.    0.    1.   ]\n",
      " [0.    0.    1.   ]\n",
      " [1.    0.    0.   ]\n",
      " [1.    0.    0.   ]\n",
      " [0.    0.002 0.998]\n",
      " [1.    0.    0.   ]\n",
      " [1.    0.    0.   ]\n",
      " [0.    0.    1.   ]\n",
      " [1.    0.    0.   ]\n",
      " [0.    0.    1.   ]\n",
      " [0.    0.001 0.999]\n",
      " [0.002 0.995 0.003]\n",
      " [0.    0.016 0.984]\n",
      " [0.001 0.992 0.007]\n",
      " [0.002 0.995 0.003]\n",
      " [0.    0.001 0.999]\n",
      " [0.    0.004 0.996]\n",
      " [0.001 0.982 0.017]\n",
      " [0.004 0.995 0.001]\n",
      " [0.    0.001 0.999]\n",
      " [0.998 0.002 0.   ]\n",
      " [1.    0.    0.   ]\n",
      " [0.003 0.996 0.001]]\n",
      "actual =\n",
      " [[1 0 0]\n",
      " [0 0 1]\n",
      " [0 1 0]\n",
      " [1 0 0]\n",
      " [0 1 0]\n",
      " [0 0 1]\n",
      " [0 0 1]\n",
      " [1 0 0]\n",
      " [1 0 0]\n",
      " [0 0 1]\n",
      " [1 0 0]\n",
      " [1 0 0]\n",
      " [0 0 1]\n",
      " [1 0 0]\n",
      " [0 0 1]\n",
      " [0 0 1]\n",
      " [0 1 0]\n",
      " [0 0 1]\n",
      " [0 1 0]\n",
      " [0 1 0]\n",
      " [0 0 1]\n",
      " [0 0 1]\n",
      " [0 1 0]\n",
      " [0 1 0]\n",
      " [0 0 1]\n",
      " [1 0 0]\n",
      " [1 0 0]\n",
      " [0 1 0]]\n"
     ]
    }
   ],
   "source": [
    "# use the model to predict the test inputs\n",
    "predictions = model.predict(inputs_test)\n",
    "print(\"predictions =\\n\", np.round(predictions, decimals=3))\n",
    "print(\"actual =\\n\", outputs_test)"
   ]
  },
  {
   "cell_type": "code",
   "execution_count": 18,
   "metadata": {},
   "outputs": [],
   "source": [
    "def getMetrics(pred, gt, threshold = 0.7):\n",
    "    \n",
    "    # get locations of indexes with postive indentificaitons\n",
    "    pred_labels = np.argmax(pred, axis=1)\n",
    "    gt_labels = np.argmax(gt, axis= 1)\n",
    "    \n",
    "    #get number of values that dont meet required identification threshold\n",
    "    below_threshold = sum(np.max(pred, axis=1) < threshold)\n",
    "\n",
    "    num_correct = sum(pred_labels == gt_labels) - below_threshold\n",
    "    num_predictions = len(pred)\n",
    "\n",
    "    accuracy = num_correct/num_predictions\n",
    "    print(\"Accuracy: {:.6%}\".format(accuracy))\n",
    "\n",
    "    return accuracy"
   ]
  },
  {
   "cell_type": "code",
   "execution_count": 19,
   "metadata": {},
   "outputs": [],
   "source": [
    "def plot_cm(gt, pred, class_names, threshold = None):\n",
    "  cm = confusion_matrix(gt, pred)\n",
    "  fig, ax = plt.subplots(figsize=(18, 16)) \n",
    "  ax = sns.heatmap(\n",
    "      cm, \n",
    "      annot=True, \n",
    "      fmt=\"d\", \n",
    "      cmap=sns.diverging_palette(220, 20, n=7),\n",
    "      ax=ax\n",
    "  )\n",
    "\n",
    "  plt.ylabel('Actual')\n",
    "  plt.xlabel('Predicted')\n",
    "  ax.set_xticklabels(class_names)\n",
    "  ax.set_yticklabels(class_names)\n",
    "  b, t = plt.ylim() # discover the values for bottom and top\n",
    "  b += 0.5 # Add 0.5 to the bottom\n",
    "  t -= 0.5 # Subtract 0.5 from the top\n",
    "  plt.ylim(b, t) # update the ylim(bottom, top) values\n",
    "  plt.show() # ta-da!"
   ]
  },
  {
   "cell_type": "code",
   "execution_count": 21,
   "metadata": {},
   "outputs": [
    {
     "name": "stdout",
     "output_type": "stream",
     "text": [
      "Accuracy: 64.285714%\n"
     ]
    },
    {
     "ename": "ValueError",
     "evalue": "The number of FixedLocator locations (3), usually from a call to set_ticks, does not match the number of labels (1).",
     "output_type": "error",
     "traceback": [
      "\u001b[1;31m---------------------------------------------------------------------------\u001b[0m",
      "\u001b[1;31mValueError\u001b[0m                                Traceback (most recent call last)",
      "Cell \u001b[1;32mIn[21], line 3\u001b[0m\n\u001b[0;32m      1\u001b[0m getMetrics(predictions, outputs_test, threshold\u001b[39m=\u001b[39m\u001b[39m0.998\u001b[39m)\n\u001b[1;32m----> 3\u001b[0m plot_cm(\n\u001b[0;32m      4\u001b[0m     lb\u001b[39m.\u001b[39;49minverse_transform(outputs_test, threshold\u001b[39m=\u001b[39;49m \u001b[39m0.998\u001b[39;49m),\n\u001b[0;32m      5\u001b[0m     lb\u001b[39m.\u001b[39;49minverse_transform(predictions,threshold\u001b[39m=\u001b[39;49m \u001b[39m0.998\u001b[39;49m),\n\u001b[0;32m      6\u001b[0m     [lb\u001b[39m.\u001b[39;49mclasses_[\u001b[39m0\u001b[39;49m]]\n\u001b[0;32m      7\u001b[0m )\n",
      "Cell \u001b[1;32mIn[19], line 14\u001b[0m, in \u001b[0;36mplot_cm\u001b[1;34m(gt, pred, class_names, threshold)\u001b[0m\n\u001b[0;32m     12\u001b[0m plt\u001b[39m.\u001b[39mylabel(\u001b[39m'\u001b[39m\u001b[39mActual\u001b[39m\u001b[39m'\u001b[39m)\n\u001b[0;32m     13\u001b[0m plt\u001b[39m.\u001b[39mxlabel(\u001b[39m'\u001b[39m\u001b[39mPredicted\u001b[39m\u001b[39m'\u001b[39m)\n\u001b[1;32m---> 14\u001b[0m ax\u001b[39m.\u001b[39;49mset_xticklabels(class_names)\n\u001b[0;32m     15\u001b[0m ax\u001b[39m.\u001b[39mset_yticklabels(class_names)\n\u001b[0;32m     16\u001b[0m b, t \u001b[39m=\u001b[39m plt\u001b[39m.\u001b[39mylim() \u001b[39m# discover the values for bottom and top\u001b[39;00m\n",
      "File \u001b[1;32mc:\\Users\\kxfor\\OneDrive\\Documents\\Personal_Projects\\Gesture-Recognition-Arduino-Nano-BLE\\env\\Lib\\site-packages\\matplotlib\\axes\\_base.py:74\u001b[0m, in \u001b[0;36m_axis_method_wrapper.__set_name__.<locals>.wrapper\u001b[1;34m(self, *args, **kwargs)\u001b[0m\n\u001b[0;32m     73\u001b[0m \u001b[39mdef\u001b[39;00m \u001b[39mwrapper\u001b[39m(\u001b[39mself\u001b[39m, \u001b[39m*\u001b[39margs, \u001b[39m*\u001b[39m\u001b[39m*\u001b[39mkwargs):\n\u001b[1;32m---> 74\u001b[0m     \u001b[39mreturn\u001b[39;00m get_method(\u001b[39mself\u001b[39;49m)(\u001b[39m*\u001b[39;49margs, \u001b[39m*\u001b[39;49m\u001b[39m*\u001b[39;49mkwargs)\n",
      "File \u001b[1;32mc:\\Users\\kxfor\\OneDrive\\Documents\\Personal_Projects\\Gesture-Recognition-Arduino-Nano-BLE\\env\\Lib\\site-packages\\matplotlib\\_api\\deprecation.py:297\u001b[0m, in \u001b[0;36mrename_parameter.<locals>.wrapper\u001b[1;34m(*args, **kwargs)\u001b[0m\n\u001b[0;32m    292\u001b[0m     warn_deprecated(\n\u001b[0;32m    293\u001b[0m         since, message\u001b[39m=\u001b[39m\u001b[39mf\u001b[39m\u001b[39m\"\u001b[39m\u001b[39mThe \u001b[39m\u001b[39m{\u001b[39;00mold\u001b[39m!r}\u001b[39;00m\u001b[39m parameter of \u001b[39m\u001b[39m{\u001b[39;00mfunc\u001b[39m.\u001b[39m\u001b[39m__name__\u001b[39m\u001b[39m}\u001b[39;00m\u001b[39m() \u001b[39m\u001b[39m\"\u001b[39m\n\u001b[0;32m    294\u001b[0m         \u001b[39mf\u001b[39m\u001b[39m\"\u001b[39m\u001b[39mhas been renamed \u001b[39m\u001b[39m{\u001b[39;00mnew\u001b[39m!r}\u001b[39;00m\u001b[39m since Matplotlib \u001b[39m\u001b[39m{\u001b[39;00msince\u001b[39m}\u001b[39;00m\u001b[39m; support \u001b[39m\u001b[39m\"\u001b[39m\n\u001b[0;32m    295\u001b[0m         \u001b[39mf\u001b[39m\u001b[39m\"\u001b[39m\u001b[39mfor the old name will be dropped %(removal)s.\u001b[39m\u001b[39m\"\u001b[39m)\n\u001b[0;32m    296\u001b[0m     kwargs[new] \u001b[39m=\u001b[39m kwargs\u001b[39m.\u001b[39mpop(old)\n\u001b[1;32m--> 297\u001b[0m \u001b[39mreturn\u001b[39;00m func(\u001b[39m*\u001b[39;49margs, \u001b[39m*\u001b[39;49m\u001b[39m*\u001b[39;49mkwargs)\n",
      "File \u001b[1;32mc:\\Users\\kxfor\\OneDrive\\Documents\\Personal_Projects\\Gesture-Recognition-Arduino-Nano-BLE\\env\\Lib\\site-packages\\matplotlib\\axis.py:1969\u001b[0m, in \u001b[0;36mAxis.set_ticklabels\u001b[1;34m(self, labels, minor, fontdict, **kwargs)\u001b[0m\n\u001b[0;32m   1965\u001b[0m \u001b[39mif\u001b[39;00m \u001b[39misinstance\u001b[39m(locator, mticker\u001b[39m.\u001b[39mFixedLocator):\n\u001b[0;32m   1966\u001b[0m     \u001b[39m# Passing [] as a list of labels is often used as a way to\u001b[39;00m\n\u001b[0;32m   1967\u001b[0m     \u001b[39m# remove all tick labels, so only error for > 0 labels\u001b[39;00m\n\u001b[0;32m   1968\u001b[0m     \u001b[39mif\u001b[39;00m \u001b[39mlen\u001b[39m(locator\u001b[39m.\u001b[39mlocs) \u001b[39m!=\u001b[39m \u001b[39mlen\u001b[39m(labels) \u001b[39mand\u001b[39;00m \u001b[39mlen\u001b[39m(labels) \u001b[39m!=\u001b[39m \u001b[39m0\u001b[39m:\n\u001b[1;32m-> 1969\u001b[0m         \u001b[39mraise\u001b[39;00m \u001b[39mValueError\u001b[39;00m(\n\u001b[0;32m   1970\u001b[0m             \u001b[39m\"\u001b[39m\u001b[39mThe number of FixedLocator locations\u001b[39m\u001b[39m\"\u001b[39m\n\u001b[0;32m   1971\u001b[0m             \u001b[39mf\u001b[39m\u001b[39m\"\u001b[39m\u001b[39m (\u001b[39m\u001b[39m{\u001b[39;00m\u001b[39mlen\u001b[39m(locator\u001b[39m.\u001b[39mlocs)\u001b[39m}\u001b[39;00m\u001b[39m), usually from a call to\u001b[39m\u001b[39m\"\u001b[39m\n\u001b[0;32m   1972\u001b[0m             \u001b[39m\"\u001b[39m\u001b[39m set_ticks, does not match\u001b[39m\u001b[39m\"\u001b[39m\n\u001b[0;32m   1973\u001b[0m             \u001b[39mf\u001b[39m\u001b[39m\"\u001b[39m\u001b[39m the number of labels (\u001b[39m\u001b[39m{\u001b[39;00m\u001b[39mlen\u001b[39m(labels)\u001b[39m}\u001b[39;00m\u001b[39m).\u001b[39m\u001b[39m\"\u001b[39m)\n\u001b[0;32m   1974\u001b[0m     tickd \u001b[39m=\u001b[39m {loc: lab \u001b[39mfor\u001b[39;00m loc, lab \u001b[39min\u001b[39;00m \u001b[39mzip\u001b[39m(locator\u001b[39m.\u001b[39mlocs, labels)}\n\u001b[0;32m   1975\u001b[0m     func \u001b[39m=\u001b[39m functools\u001b[39m.\u001b[39mpartial(\u001b[39mself\u001b[39m\u001b[39m.\u001b[39m_format_with_dict, tickd)\n",
      "\u001b[1;31mValueError\u001b[0m: The number of FixedLocator locations (3), usually from a call to set_ticks, does not match the number of labels (1)."
     ]
    },
    {
     "data": {
      "image/png": "[encoded data removed]",
      "text/plain": [
       "<Figure size 1800x1600 with 2 Axes>"
      ]
     },
     "metadata": {},
     "output_type": "display_data"
    }
   ],
   "source": [
    "getMetrics(predictions, outputs_test, threshold=0.998)\n",
    "\n",
    "plot_cm(\n",
    "    lb.inverse_transform(outputs_test, threshold= 0.998),\n",
    "    lb.inverse_transform(predictions,threshold= 0.998),\n",
    "    [lb.classes_[0]]\n",
    ")"
   ]
  }
 ],
 "metadata": {
  "kernelspec": {
   "display_name": "env",
   "language": "python",
   "name": "python3"
  },
  "language_info": {
   "codemirror_mode": {
    "name": "ipython",
    "version": 3
   },
   "file_extension": ".py",
   "mimetype": "text/x-python",
   "name": "python",
   "nbconvert_exporter": "python",
   "pygments_lexer": "ipython3",
   "version": "3.11.0"
  },
  "orig_nbformat": 4
 },
 "nbformat": 4,
 "nbformat_minor": 2
}
