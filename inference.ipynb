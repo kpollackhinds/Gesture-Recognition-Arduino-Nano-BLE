{
 "cells": [
  {
   "cell_type": "code",
   "execution_count": 21,
   "metadata": {},
   "outputs": [],
   "source": [
    "from keras.models import load_model\n",
    "import numpy as np\n",
    "from sklearn.metrics import confusion_matrix\n",
    "from sklearn.preprocessing import OneHotEncoder\n"
   ]
  },
  {
   "cell_type": "code",
   "execution_count": 2,
   "metadata": {},
   "outputs": [],
   "source": [
    "model = load_model('model.h5')\n",
    "\n",
    "inputs = np.load(r'samples\\inputs_test.npy')\n",
    "gt = np.load(r'samples\\outputs_test.npy') #ground truth\n",
    "\n",
    "enc = OneHotEncoder(handle_unknown= 'ignore', sparse_output=False)\n",
    "enc.fit(gt)"
   ]
  },
  {
   "cell_type": "code",
   "execution_count": null,
   "metadata": {},
   "outputs": [],
   "source": [
    "# use the model to predict the test inputs\n",
    "predictions = model.predict(inputs)\n",
    "print(\"predictions =\\n\", np.round(predictions, decimals=3))\n",
    "print(\"actual =\\n\", gt)"
   ]
  },
  {
   "cell_type": "code",
   "execution_count": 4,
   "metadata": {},
   "outputs": [
    {
     "name": "stdout",
     "output_type": "stream",
     "text": [
      "['loss', 'mae']\n"
     ]
    }
   ],
   "source": [
    "print(model.metrics_names )"
   ]
  },
  {
   "cell_type": "code",
   "execution_count": 17,
   "metadata": {},
   "outputs": [],
   "source": [
    "def getMetrics(pred, gt, threshold = 0.7):\n",
    "    \n",
    "    # get locations of indexes with postive indentificaitons\n",
    "    pred_labels = np.argmax(pred, axis=1)\n",
    "    gt_labels = np.argmax(gt, axis= 1)\n",
    "    \n",
    "    #get number of values that dont meet required identification threshold\n",
    "    below_threshold = sum(np.max(pred, axis=1) < threshold)\n",
    "\n",
    "    num_correct = sum(pred_labels == gt_labels) - below_threshold\n",
    "    num_predictions = len(pred)\n",
    "\n",
    "    accuracy = num_correct/num_predictions\n",
    "    print(\"Accuracy: {:.6%}\".format(accuracy))\n",
    "\n",
    "    return accuracy\n",
    "\n"
   ]
  },
  {
   "cell_type": "code",
   "execution_count": null,
   "metadata": {},
   "outputs": [],
   "source": [
    "def plot_cm(gt, pred, class_names):\n",
    "  cm = confusion_matrix(gt, pred)\n",
    "  fig, ax = plt.subplots(figsize=(18, 16)) \n",
    "  ax = sns.heatmap(\n",
    "      cm, \n",
    "      annot=True, \n",
    "      fmt=\"d\", \n",
    "      cmap=sns.diverging_palette(220, 20, n=7),\n",
    "      ax=ax\n",
    "  )\n",
    "\n",
    "  plt.ylabel('Actual')\n",
    "  plt.xlabel('Predicted')\n",
    "  ax.set_xticklabels(class_names)\n",
    "  ax.set_yticklabels(class_names)\n",
    "  b, t = plt.ylim() # discover the values for bottom and top\n",
    "  b += 0.5 # Add 0.5 to the bottom\n",
    "  t -= 0.5 # Subtract 0.5 from the top\n",
    "  plt.ylim(b, t) # update the ylim(bottom, top) values\n",
    "  plt.show() # ta-da!"
   ]
  },
  {
   "cell_type": "code",
   "execution_count": 24,
   "metadata": {},
   "outputs": [
    {
     "name": "stdout",
     "output_type": "stream",
     "text": [
      "[False False  True False False False False False False False False False\n",
      " False False False False False False False]\n",
      "Accuracy: 94.736842%\n",
      "[[[ 9  0]\n",
      "  [ 0 10]]\n",
      "\n",
      " [[10  0]\n",
      "  [ 0  9]]]\n"
     ]
    }
   ],
   "source": [
    "getMetrics(predictions, gt, threshold=0.998)\n",
    "confusion = multilabel_confusion_matrix(gt, predictions)\n",
    "print(confusion)"
   ]
  }
 ],
 "metadata": {
  "kernelspec": {
   "display_name": "env",
   "language": "python",
   "name": "python3"
  },
  "language_info": {
   "codemirror_mode": {
    "name": "ipython",
    "version": 3
   },
   "file_extension": ".py",
   "mimetype": "text/x-python",
   "name": "python",
   "nbconvert_exporter": "python",
   "pygments_lexer": "ipython3",
   "version": "3.11.0"
  },
  "orig_nbformat": 4
 },
 "nbformat": 4,
 "nbformat_minor": 2
}
